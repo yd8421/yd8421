{
  "nbformat": 4,
  "nbformat_minor": 0,
  "metadata": {
    "colab": {
      "provenance": [],
      "collapsed_sections": []
    },
    "kernelspec": {
      "name": "python3",
      "display_name": "Python 3"
    },
    "language_info": {
      "name": "python"
    },
    "gpuClass": "standard",
    "accelerator": "GPU"
  },
  "cells": [
    {
      "cell_type": "markdown",
      "source": [
        "##Dataset and library Import"
      ],
      "metadata": {
        "id": "9qD6EoqNUp7L"
      }
    },
    {
      "cell_type": "code",
      "execution_count": null,
      "metadata": {
        "colab": {
          "base_uri": "https://localhost:8080/"
        },
        "id": "aM8vS4WOwuYK",
        "outputId": "bde1d446-aa19-4233-f7fa-5e0e7f947281"
      },
      "outputs": [
        {
          "output_type": "stream",
          "name": "stdout",
          "text": [
            "Looking in indexes: https://pypi.org/simple, https://us-python.pkg.dev/colab-wheels/public/simple/\n",
            "Collecting opendatasets\n",
            "  Downloading opendatasets-0.1.22-py3-none-any.whl (15 kB)\n",
            "Requirement already satisfied: click in /usr/local/lib/python3.7/dist-packages (from opendatasets) (7.1.2)\n",
            "Requirement already satisfied: tqdm in /usr/local/lib/python3.7/dist-packages (from opendatasets) (4.64.1)\n",
            "Requirement already satisfied: kaggle in /usr/local/lib/python3.7/dist-packages (from opendatasets) (1.5.12)\n",
            "Requirement already satisfied: six>=1.10 in /usr/local/lib/python3.7/dist-packages (from kaggle->opendatasets) (1.15.0)\n",
            "Requirement already satisfied: python-dateutil in /usr/local/lib/python3.7/dist-packages (from kaggle->opendatasets) (2.8.2)\n",
            "Requirement already satisfied: certifi in /usr/local/lib/python3.7/dist-packages (from kaggle->opendatasets) (2022.9.24)\n",
            "Requirement already satisfied: requests in /usr/local/lib/python3.7/dist-packages (from kaggle->opendatasets) (2.23.0)\n",
            "Requirement already satisfied: python-slugify in /usr/local/lib/python3.7/dist-packages (from kaggle->opendatasets) (6.1.2)\n",
            "Requirement already satisfied: urllib3 in /usr/local/lib/python3.7/dist-packages (from kaggle->opendatasets) (1.24.3)\n",
            "Requirement already satisfied: text-unidecode>=1.3 in /usr/local/lib/python3.7/dist-packages (from python-slugify->kaggle->opendatasets) (1.3)\n",
            "Requirement already satisfied: idna<3,>=2.5 in /usr/local/lib/python3.7/dist-packages (from requests->kaggle->opendatasets) (2.10)\n",
            "Requirement already satisfied: chardet<4,>=3.0.2 in /usr/local/lib/python3.7/dist-packages (from requests->kaggle->opendatasets) (3.0.4)\n",
            "Installing collected packages: opendatasets\n",
            "Successfully installed opendatasets-0.1.22\n",
            "Looking in indexes: https://pypi.org/simple, https://us-python.pkg.dev/colab-wheels/public/simple/\n",
            "Requirement already satisfied: pandas in /usr/local/lib/python3.7/dist-packages (1.3.5)\n",
            "Requirement already satisfied: numpy>=1.17.3 in /usr/local/lib/python3.7/dist-packages (from pandas) (1.21.6)\n",
            "Requirement already satisfied: pytz>=2017.3 in /usr/local/lib/python3.7/dist-packages (from pandas) (2022.5)\n",
            "Requirement already satisfied: python-dateutil>=2.7.3 in /usr/local/lib/python3.7/dist-packages (from pandas) (2.8.2)\n",
            "Requirement already satisfied: six>=1.5 in /usr/local/lib/python3.7/dist-packages (from python-dateutil>=2.7.3->pandas) (1.15.0)\n"
          ]
        }
      ],
      "source": [
        "!pip install opendatasets\n",
        "!pip install pandas"
      ]
    },
    {
      "cell_type": "code",
      "source": [
        "import opendatasets as od\n",
        "import pandas\n",
        "  \n",
        "od.download(\n",
        "    \"https://www.kaggle.com/datasets/rishianand/devanagari-character-set?select=data.csv\")"
      ],
      "metadata": {
        "colab": {
          "base_uri": "https://localhost:8080/"
        },
        "id": "8_fGn7_kyMcR",
        "outputId": "d984c520-a732-45a2-c270-669921d63baf"
      },
      "execution_count": null,
      "outputs": [
        {
          "output_type": "stream",
          "name": "stdout",
          "text": [
            "Please provide your Kaggle credentials to download this dataset. Learn more: http://bit.ly/kaggle-creds\n",
            "Your Kaggle username: yugdesai310\n",
            "Your Kaggle Key: ··········\n",
            "Downloading devanagari-character-set.zip to ./devanagari-character-set\n"
          ]
        },
        {
          "output_type": "stream",
          "name": "stderr",
          "text": [
            "100%|██████████| 118M/118M [00:00<00:00, 160MB/s]\n"
          ]
        },
        {
          "output_type": "stream",
          "name": "stdout",
          "text": [
            "\n"
          ]
        }
      ]
    },
    {
      "cell_type": "code",
      "source": [
        "Data_File = \"/content/devanagari-character-set/data.csv\""
      ],
      "metadata": {
        "id": "4OZ6xH7Py24j"
      },
      "execution_count": null,
      "outputs": []
    },
    {
      "cell_type": "code",
      "source": [
        "import csv\n",
        "import string\n",
        "import numpy as np\n",
        "from PIL import Image as im\n",
        "import tensorflow as tf\n",
        "import random\n",
        "import pandas as pd\n",
        "import matplotlib.pyplot as plt\n",
        "from tensorflow.keras.preprocessing.image import ImageDataGenerator, array_to_img\n",
        "from tensorflow.keras.utils import to_categorical"
      ],
      "metadata": {
        "id": "ZvDr7F8m0mQt"
      },
      "execution_count": null,
      "outputs": []
    },
    {
      "cell_type": "markdown",
      "source": [
        "##Data Preprocessing"
      ],
      "metadata": {
        "id": "TSCdSYAOUe2t"
      }
    },
    {
      "cell_type": "code",
      "source": [
        "with open(Data_File) as daf:\n",
        "  csv_reader = csv.reader(daf, delimiter = ',')\n",
        "  csv_list = list()\n",
        "  for i in csv_reader:\n",
        "    csv_list.append(i)\n",
        "  df = pd.DataFrame(csv_list)\n",
        "  #print(df)"
      ],
      "metadata": {
        "id": "9MA3fs8-09vR"
      },
      "execution_count": null,
      "outputs": []
    },
    {
      "cell_type": "code",
      "source": [
        "header = df.iloc[0]\n",
        "df = df[1:]\n",
        "df.columns = header\n",
        "df.head()"
      ],
      "metadata": {
        "id": "jiP1LvQP21C_",
        "colab": {
          "base_uri": "https://localhost:8080/",
          "height": 299
        },
        "outputId": "3474142c-f60a-4740-fb4d-c42741d098b6"
      },
      "execution_count": null,
      "outputs": [
        {
          "output_type": "execute_result",
          "data": {
            "text/plain": [
              "0 pixel_0000 pixel_0001 pixel_0002 pixel_0003 pixel_0004 pixel_0005  \\\n",
              "1          0          0          0          0          0          0   \n",
              "2          0          0          0          0          0          0   \n",
              "3          0          0          0          0          0          0   \n",
              "4          0          0          0          0          0          0   \n",
              "5          0          0          0          0          0          0   \n",
              "\n",
              "0 pixel_0006 pixel_0007 pixel_0008 pixel_0009  ... pixel_1015 pixel_1016  \\\n",
              "1          0          0          0          0  ...          0          0   \n",
              "2          0          0          0          0  ...          0          0   \n",
              "3          0          0          0          0  ...          0          0   \n",
              "4          0          0          0          0  ...          0          0   \n",
              "5          0          0          0          0  ...          0          0   \n",
              "\n",
              "0 pixel_1017 pixel_1018 pixel_1019 pixel_1020 pixel_1021 pixel_1022  \\\n",
              "1          0          0          0          0          0          0   \n",
              "2          0          0          0          0          0          0   \n",
              "3          0          0          0          0          0          0   \n",
              "4          0          0          0          0          0          0   \n",
              "5          0          0          0          0          0          0   \n",
              "\n",
              "0 pixel_1023        character  \n",
              "1          0  character_01_ka  \n",
              "2          0  character_01_ka  \n",
              "3          0  character_01_ka  \n",
              "4          0  character_01_ka  \n",
              "5          0  character_01_ka  \n",
              "\n",
              "[5 rows x 1025 columns]"
            ],
            "text/html": [
              "\n",
              "  <div id=\"df-3c0f3aa7-db75-42bf-80ed-546dd444dbb7\">\n",
              "    <div class=\"colab-df-container\">\n",
              "      <div>\n",
              "<style scoped>\n",
              "    .dataframe tbody tr th:only-of-type {\n",
              "        vertical-align: middle;\n",
              "    }\n",
              "\n",
              "    .dataframe tbody tr th {\n",
              "        vertical-align: top;\n",
              "    }\n",
              "\n",
              "    .dataframe thead th {\n",
              "        text-align: right;\n",
              "    }\n",
              "</style>\n",
              "<table border=\"1\" class=\"dataframe\">\n",
              "  <thead>\n",
              "    <tr style=\"text-align: right;\">\n",
              "      <th></th>\n",
              "      <th>pixel_0000</th>\n",
              "      <th>pixel_0001</th>\n",
              "      <th>pixel_0002</th>\n",
              "      <th>pixel_0003</th>\n",
              "      <th>pixel_0004</th>\n",
              "      <th>pixel_0005</th>\n",
              "      <th>pixel_0006</th>\n",
              "      <th>pixel_0007</th>\n",
              "      <th>pixel_0008</th>\n",
              "      <th>pixel_0009</th>\n",
              "      <th>...</th>\n",
              "      <th>pixel_1015</th>\n",
              "      <th>pixel_1016</th>\n",
              "      <th>pixel_1017</th>\n",
              "      <th>pixel_1018</th>\n",
              "      <th>pixel_1019</th>\n",
              "      <th>pixel_1020</th>\n",
              "      <th>pixel_1021</th>\n",
              "      <th>pixel_1022</th>\n",
              "      <th>pixel_1023</th>\n",
              "      <th>character</th>\n",
              "    </tr>\n",
              "  </thead>\n",
              "  <tbody>\n",
              "    <tr>\n",
              "      <th>1</th>\n",
              "      <td>0</td>\n",
              "      <td>0</td>\n",
              "      <td>0</td>\n",
              "      <td>0</td>\n",
              "      <td>0</td>\n",
              "      <td>0</td>\n",
              "      <td>0</td>\n",
              "      <td>0</td>\n",
              "      <td>0</td>\n",
              "      <td>0</td>\n",
              "      <td>...</td>\n",
              "      <td>0</td>\n",
              "      <td>0</td>\n",
              "      <td>0</td>\n",
              "      <td>0</td>\n",
              "      <td>0</td>\n",
              "      <td>0</td>\n",
              "      <td>0</td>\n",
              "      <td>0</td>\n",
              "      <td>0</td>\n",
              "      <td>character_01_ka</td>\n",
              "    </tr>\n",
              "    <tr>\n",
              "      <th>2</th>\n",
              "      <td>0</td>\n",
              "      <td>0</td>\n",
              "      <td>0</td>\n",
              "      <td>0</td>\n",
              "      <td>0</td>\n",
              "      <td>0</td>\n",
              "      <td>0</td>\n",
              "      <td>0</td>\n",
              "      <td>0</td>\n",
              "      <td>0</td>\n",
              "      <td>...</td>\n",
              "      <td>0</td>\n",
              "      <td>0</td>\n",
              "      <td>0</td>\n",
              "      <td>0</td>\n",
              "      <td>0</td>\n",
              "      <td>0</td>\n",
              "      <td>0</td>\n",
              "      <td>0</td>\n",
              "      <td>0</td>\n",
              "      <td>character_01_ka</td>\n",
              "    </tr>\n",
              "    <tr>\n",
              "      <th>3</th>\n",
              "      <td>0</td>\n",
              "      <td>0</td>\n",
              "      <td>0</td>\n",
              "      <td>0</td>\n",
              "      <td>0</td>\n",
              "      <td>0</td>\n",
              "      <td>0</td>\n",
              "      <td>0</td>\n",
              "      <td>0</td>\n",
              "      <td>0</td>\n",
              "      <td>...</td>\n",
              "      <td>0</td>\n",
              "      <td>0</td>\n",
              "      <td>0</td>\n",
              "      <td>0</td>\n",
              "      <td>0</td>\n",
              "      <td>0</td>\n",
              "      <td>0</td>\n",
              "      <td>0</td>\n",
              "      <td>0</td>\n",
              "      <td>character_01_ka</td>\n",
              "    </tr>\n",
              "    <tr>\n",
              "      <th>4</th>\n",
              "      <td>0</td>\n",
              "      <td>0</td>\n",
              "      <td>0</td>\n",
              "      <td>0</td>\n",
              "      <td>0</td>\n",
              "      <td>0</td>\n",
              "      <td>0</td>\n",
              "      <td>0</td>\n",
              "      <td>0</td>\n",
              "      <td>0</td>\n",
              "      <td>...</td>\n",
              "      <td>0</td>\n",
              "      <td>0</td>\n",
              "      <td>0</td>\n",
              "      <td>0</td>\n",
              "      <td>0</td>\n",
              "      <td>0</td>\n",
              "      <td>0</td>\n",
              "      <td>0</td>\n",
              "      <td>0</td>\n",
              "      <td>character_01_ka</td>\n",
              "    </tr>\n",
              "    <tr>\n",
              "      <th>5</th>\n",
              "      <td>0</td>\n",
              "      <td>0</td>\n",
              "      <td>0</td>\n",
              "      <td>0</td>\n",
              "      <td>0</td>\n",
              "      <td>0</td>\n",
              "      <td>0</td>\n",
              "      <td>0</td>\n",
              "      <td>0</td>\n",
              "      <td>0</td>\n",
              "      <td>...</td>\n",
              "      <td>0</td>\n",
              "      <td>0</td>\n",
              "      <td>0</td>\n",
              "      <td>0</td>\n",
              "      <td>0</td>\n",
              "      <td>0</td>\n",
              "      <td>0</td>\n",
              "      <td>0</td>\n",
              "      <td>0</td>\n",
              "      <td>character_01_ka</td>\n",
              "    </tr>\n",
              "  </tbody>\n",
              "</table>\n",
              "<p>5 rows × 1025 columns</p>\n",
              "</div>\n",
              "      <button class=\"colab-df-convert\" onclick=\"convertToInteractive('df-3c0f3aa7-db75-42bf-80ed-546dd444dbb7')\"\n",
              "              title=\"Convert this dataframe to an interactive table.\"\n",
              "              style=\"display:none;\">\n",
              "        \n",
              "  <svg xmlns=\"http://www.w3.org/2000/svg\" height=\"24px\"viewBox=\"0 0 24 24\"\n",
              "       width=\"24px\">\n",
              "    <path d=\"M0 0h24v24H0V0z\" fill=\"none\"/>\n",
              "    <path d=\"M18.56 5.44l.94 2.06.94-2.06 2.06-.94-2.06-.94-.94-2.06-.94 2.06-2.06.94zm-11 1L8.5 8.5l.94-2.06 2.06-.94-2.06-.94L8.5 2.5l-.94 2.06-2.06.94zm10 10l.94 2.06.94-2.06 2.06-.94-2.06-.94-.94-2.06-.94 2.06-2.06.94z\"/><path d=\"M17.41 7.96l-1.37-1.37c-.4-.4-.92-.59-1.43-.59-.52 0-1.04.2-1.43.59L10.3 9.45l-7.72 7.72c-.78.78-.78 2.05 0 2.83L4 21.41c.39.39.9.59 1.41.59.51 0 1.02-.2 1.41-.59l7.78-7.78 2.81-2.81c.8-.78.8-2.07 0-2.86zM5.41 20L4 18.59l7.72-7.72 1.47 1.35L5.41 20z\"/>\n",
              "  </svg>\n",
              "      </button>\n",
              "      \n",
              "  <style>\n",
              "    .colab-df-container {\n",
              "      display:flex;\n",
              "      flex-wrap:wrap;\n",
              "      gap: 12px;\n",
              "    }\n",
              "\n",
              "    .colab-df-convert {\n",
              "      background-color: #E8F0FE;\n",
              "      border: none;\n",
              "      border-radius: 50%;\n",
              "      cursor: pointer;\n",
              "      display: none;\n",
              "      fill: #1967D2;\n",
              "      height: 32px;\n",
              "      padding: 0 0 0 0;\n",
              "      width: 32px;\n",
              "    }\n",
              "\n",
              "    .colab-df-convert:hover {\n",
              "      background-color: #E2EBFA;\n",
              "      box-shadow: 0px 1px 2px rgba(60, 64, 67, 0.3), 0px 1px 3px 1px rgba(60, 64, 67, 0.15);\n",
              "      fill: #174EA6;\n",
              "    }\n",
              "\n",
              "    [theme=dark] .colab-df-convert {\n",
              "      background-color: #3B4455;\n",
              "      fill: #D2E3FC;\n",
              "    }\n",
              "\n",
              "    [theme=dark] .colab-df-convert:hover {\n",
              "      background-color: #434B5C;\n",
              "      box-shadow: 0px 1px 3px 1px rgba(0, 0, 0, 0.15);\n",
              "      filter: drop-shadow(0px 1px 2px rgba(0, 0, 0, 0.3));\n",
              "      fill: #FFFFFF;\n",
              "    }\n",
              "  </style>\n",
              "\n",
              "      <script>\n",
              "        const buttonEl =\n",
              "          document.querySelector('#df-3c0f3aa7-db75-42bf-80ed-546dd444dbb7 button.colab-df-convert');\n",
              "        buttonEl.style.display =\n",
              "          google.colab.kernel.accessAllowed ? 'block' : 'none';\n",
              "\n",
              "        async function convertToInteractive(key) {\n",
              "          const element = document.querySelector('#df-3c0f3aa7-db75-42bf-80ed-546dd444dbb7');\n",
              "          const dataTable =\n",
              "            await google.colab.kernel.invokeFunction('convertToInteractive',\n",
              "                                                     [key], {});\n",
              "          if (!dataTable) return;\n",
              "\n",
              "          const docLinkHtml = 'Like what you see? Visit the ' +\n",
              "            '<a target=\"_blank\" href=https://colab.research.google.com/notebooks/data_table.ipynb>data table notebook</a>'\n",
              "            + ' to learn more about interactive tables.';\n",
              "          element.innerHTML = '';\n",
              "          dataTable['output_type'] = 'display_data';\n",
              "          await google.colab.output.renderOutput(dataTable, element);\n",
              "          const docLink = document.createElement('div');\n",
              "          docLink.innerHTML = docLinkHtml;\n",
              "          element.appendChild(docLink);\n",
              "        }\n",
              "      </script>\n",
              "    </div>\n",
              "  </div>\n",
              "  "
            ]
          },
          "metadata": {},
          "execution_count": 6
        }
      ]
    },
    {
      "cell_type": "code",
      "source": [
        "df.tail()"
      ],
      "metadata": {
        "colab": {
          "base_uri": "https://localhost:8080/",
          "height": 299
        },
        "id": "I2LdcuAumFdK",
        "outputId": "71234806-17a4-44e0-92fa-266439dfdc4d"
      },
      "execution_count": null,
      "outputs": [
        {
          "output_type": "execute_result",
          "data": {
            "text/plain": [
              "0     pixel_0000 pixel_0001 pixel_0002 pixel_0003 pixel_0004 pixel_0005  \\\n",
              "91996          0          0          0          0          0          0   \n",
              "91997          0          0          0          0          0          0   \n",
              "91998          0          0          0          0          0          0   \n",
              "91999          0          0          0          0          0          0   \n",
              "92000          0          0          0          0          0          0   \n",
              "\n",
              "0     pixel_0006 pixel_0007 pixel_0008 pixel_0009  ... pixel_1015 pixel_1016  \\\n",
              "91996          0          0          0          0  ...          0          0   \n",
              "91997          0          0          0          0  ...          0          0   \n",
              "91998          0          0          0          0  ...          0          0   \n",
              "91999          0          0          0          0  ...          0          0   \n",
              "92000          0          0          0          0  ...          0          0   \n",
              "\n",
              "0     pixel_1017 pixel_1018 pixel_1019 pixel_1020 pixel_1021 pixel_1022  \\\n",
              "91996          0          0          0          0          0          0   \n",
              "91997          0          0          0          0          0          0   \n",
              "91998          0          0          0          0          0          0   \n",
              "91999          0          0          0          0          0          0   \n",
              "92000          0          0          0          0          0          0   \n",
              "\n",
              "0     pixel_1023 character  \n",
              "91996          0   digit_9  \n",
              "91997          0   digit_9  \n",
              "91998          0   digit_9  \n",
              "91999          0   digit_9  \n",
              "92000          0   digit_9  \n",
              "\n",
              "[5 rows x 1025 columns]"
            ],
            "text/html": [
              "\n",
              "  <div id=\"df-72231a90-2b48-4c93-a47d-ad3d85ecd7e1\">\n",
              "    <div class=\"colab-df-container\">\n",
              "      <div>\n",
              "<style scoped>\n",
              "    .dataframe tbody tr th:only-of-type {\n",
              "        vertical-align: middle;\n",
              "    }\n",
              "\n",
              "    .dataframe tbody tr th {\n",
              "        vertical-align: top;\n",
              "    }\n",
              "\n",
              "    .dataframe thead th {\n",
              "        text-align: right;\n",
              "    }\n",
              "</style>\n",
              "<table border=\"1\" class=\"dataframe\">\n",
              "  <thead>\n",
              "    <tr style=\"text-align: right;\">\n",
              "      <th></th>\n",
              "      <th>pixel_0000</th>\n",
              "      <th>pixel_0001</th>\n",
              "      <th>pixel_0002</th>\n",
              "      <th>pixel_0003</th>\n",
              "      <th>pixel_0004</th>\n",
              "      <th>pixel_0005</th>\n",
              "      <th>pixel_0006</th>\n",
              "      <th>pixel_0007</th>\n",
              "      <th>pixel_0008</th>\n",
              "      <th>pixel_0009</th>\n",
              "      <th>...</th>\n",
              "      <th>pixel_1015</th>\n",
              "      <th>pixel_1016</th>\n",
              "      <th>pixel_1017</th>\n",
              "      <th>pixel_1018</th>\n",
              "      <th>pixel_1019</th>\n",
              "      <th>pixel_1020</th>\n",
              "      <th>pixel_1021</th>\n",
              "      <th>pixel_1022</th>\n",
              "      <th>pixel_1023</th>\n",
              "      <th>character</th>\n",
              "    </tr>\n",
              "  </thead>\n",
              "  <tbody>\n",
              "    <tr>\n",
              "      <th>91996</th>\n",
              "      <td>0</td>\n",
              "      <td>0</td>\n",
              "      <td>0</td>\n",
              "      <td>0</td>\n",
              "      <td>0</td>\n",
              "      <td>0</td>\n",
              "      <td>0</td>\n",
              "      <td>0</td>\n",
              "      <td>0</td>\n",
              "      <td>0</td>\n",
              "      <td>...</td>\n",
              "      <td>0</td>\n",
              "      <td>0</td>\n",
              "      <td>0</td>\n",
              "      <td>0</td>\n",
              "      <td>0</td>\n",
              "      <td>0</td>\n",
              "      <td>0</td>\n",
              "      <td>0</td>\n",
              "      <td>0</td>\n",
              "      <td>digit_9</td>\n",
              "    </tr>\n",
              "    <tr>\n",
              "      <th>91997</th>\n",
              "      <td>0</td>\n",
              "      <td>0</td>\n",
              "      <td>0</td>\n",
              "      <td>0</td>\n",
              "      <td>0</td>\n",
              "      <td>0</td>\n",
              "      <td>0</td>\n",
              "      <td>0</td>\n",
              "      <td>0</td>\n",
              "      <td>0</td>\n",
              "      <td>...</td>\n",
              "      <td>0</td>\n",
              "      <td>0</td>\n",
              "      <td>0</td>\n",
              "      <td>0</td>\n",
              "      <td>0</td>\n",
              "      <td>0</td>\n",
              "      <td>0</td>\n",
              "      <td>0</td>\n",
              "      <td>0</td>\n",
              "      <td>digit_9</td>\n",
              "    </tr>\n",
              "    <tr>\n",
              "      <th>91998</th>\n",
              "      <td>0</td>\n",
              "      <td>0</td>\n",
              "      <td>0</td>\n",
              "      <td>0</td>\n",
              "      <td>0</td>\n",
              "      <td>0</td>\n",
              "      <td>0</td>\n",
              "      <td>0</td>\n",
              "      <td>0</td>\n",
              "      <td>0</td>\n",
              "      <td>...</td>\n",
              "      <td>0</td>\n",
              "      <td>0</td>\n",
              "      <td>0</td>\n",
              "      <td>0</td>\n",
              "      <td>0</td>\n",
              "      <td>0</td>\n",
              "      <td>0</td>\n",
              "      <td>0</td>\n",
              "      <td>0</td>\n",
              "      <td>digit_9</td>\n",
              "    </tr>\n",
              "    <tr>\n",
              "      <th>91999</th>\n",
              "      <td>0</td>\n",
              "      <td>0</td>\n",
              "      <td>0</td>\n",
              "      <td>0</td>\n",
              "      <td>0</td>\n",
              "      <td>0</td>\n",
              "      <td>0</td>\n",
              "      <td>0</td>\n",
              "      <td>0</td>\n",
              "      <td>0</td>\n",
              "      <td>...</td>\n",
              "      <td>0</td>\n",
              "      <td>0</td>\n",
              "      <td>0</td>\n",
              "      <td>0</td>\n",
              "      <td>0</td>\n",
              "      <td>0</td>\n",
              "      <td>0</td>\n",
              "      <td>0</td>\n",
              "      <td>0</td>\n",
              "      <td>digit_9</td>\n",
              "    </tr>\n",
              "    <tr>\n",
              "      <th>92000</th>\n",
              "      <td>0</td>\n",
              "      <td>0</td>\n",
              "      <td>0</td>\n",
              "      <td>0</td>\n",
              "      <td>0</td>\n",
              "      <td>0</td>\n",
              "      <td>0</td>\n",
              "      <td>0</td>\n",
              "      <td>0</td>\n",
              "      <td>0</td>\n",
              "      <td>...</td>\n",
              "      <td>0</td>\n",
              "      <td>0</td>\n",
              "      <td>0</td>\n",
              "      <td>0</td>\n",
              "      <td>0</td>\n",
              "      <td>0</td>\n",
              "      <td>0</td>\n",
              "      <td>0</td>\n",
              "      <td>0</td>\n",
              "      <td>digit_9</td>\n",
              "    </tr>\n",
              "  </tbody>\n",
              "</table>\n",
              "<p>5 rows × 1025 columns</p>\n",
              "</div>\n",
              "      <button class=\"colab-df-convert\" onclick=\"convertToInteractive('df-72231a90-2b48-4c93-a47d-ad3d85ecd7e1')\"\n",
              "              title=\"Convert this dataframe to an interactive table.\"\n",
              "              style=\"display:none;\">\n",
              "        \n",
              "  <svg xmlns=\"http://www.w3.org/2000/svg\" height=\"24px\"viewBox=\"0 0 24 24\"\n",
              "       width=\"24px\">\n",
              "    <path d=\"M0 0h24v24H0V0z\" fill=\"none\"/>\n",
              "    <path d=\"M18.56 5.44l.94 2.06.94-2.06 2.06-.94-2.06-.94-.94-2.06-.94 2.06-2.06.94zm-11 1L8.5 8.5l.94-2.06 2.06-.94-2.06-.94L8.5 2.5l-.94 2.06-2.06.94zm10 10l.94 2.06.94-2.06 2.06-.94-2.06-.94-.94-2.06-.94 2.06-2.06.94z\"/><path d=\"M17.41 7.96l-1.37-1.37c-.4-.4-.92-.59-1.43-.59-.52 0-1.04.2-1.43.59L10.3 9.45l-7.72 7.72c-.78.78-.78 2.05 0 2.83L4 21.41c.39.39.9.59 1.41.59.51 0 1.02-.2 1.41-.59l7.78-7.78 2.81-2.81c.8-.78.8-2.07 0-2.86zM5.41 20L4 18.59l7.72-7.72 1.47 1.35L5.41 20z\"/>\n",
              "  </svg>\n",
              "      </button>\n",
              "      \n",
              "  <style>\n",
              "    .colab-df-container {\n",
              "      display:flex;\n",
              "      flex-wrap:wrap;\n",
              "      gap: 12px;\n",
              "    }\n",
              "\n",
              "    .colab-df-convert {\n",
              "      background-color: #E8F0FE;\n",
              "      border: none;\n",
              "      border-radius: 50%;\n",
              "      cursor: pointer;\n",
              "      display: none;\n",
              "      fill: #1967D2;\n",
              "      height: 32px;\n",
              "      padding: 0 0 0 0;\n",
              "      width: 32px;\n",
              "    }\n",
              "\n",
              "    .colab-df-convert:hover {\n",
              "      background-color: #E2EBFA;\n",
              "      box-shadow: 0px 1px 2px rgba(60, 64, 67, 0.3), 0px 1px 3px 1px rgba(60, 64, 67, 0.15);\n",
              "      fill: #174EA6;\n",
              "    }\n",
              "\n",
              "    [theme=dark] .colab-df-convert {\n",
              "      background-color: #3B4455;\n",
              "      fill: #D2E3FC;\n",
              "    }\n",
              "\n",
              "    [theme=dark] .colab-df-convert:hover {\n",
              "      background-color: #434B5C;\n",
              "      box-shadow: 0px 1px 3px 1px rgba(0, 0, 0, 0.15);\n",
              "      filter: drop-shadow(0px 1px 2px rgba(0, 0, 0, 0.3));\n",
              "      fill: #FFFFFF;\n",
              "    }\n",
              "  </style>\n",
              "\n",
              "      <script>\n",
              "        const buttonEl =\n",
              "          document.querySelector('#df-72231a90-2b48-4c93-a47d-ad3d85ecd7e1 button.colab-df-convert');\n",
              "        buttonEl.style.display =\n",
              "          google.colab.kernel.accessAllowed ? 'block' : 'none';\n",
              "\n",
              "        async function convertToInteractive(key) {\n",
              "          const element = document.querySelector('#df-72231a90-2b48-4c93-a47d-ad3d85ecd7e1');\n",
              "          const dataTable =\n",
              "            await google.colab.kernel.invokeFunction('convertToInteractive',\n",
              "                                                     [key], {});\n",
              "          if (!dataTable) return;\n",
              "\n",
              "          const docLinkHtml = 'Like what you see? Visit the ' +\n",
              "            '<a target=\"_blank\" href=https://colab.research.google.com/notebooks/data_table.ipynb>data table notebook</a>'\n",
              "            + ' to learn more about interactive tables.';\n",
              "          element.innerHTML = '';\n",
              "          dataTable['output_type'] = 'display_data';\n",
              "          await google.colab.output.renderOutput(dataTable, element);\n",
              "          const docLink = document.createElement('div');\n",
              "          docLink.innerHTML = docLinkHtml;\n",
              "          element.appendChild(docLink);\n",
              "        }\n",
              "      </script>\n",
              "    </div>\n",
              "  </div>\n",
              "  "
            ]
          },
          "metadata": {},
          "execution_count": 7
        }
      ]
    },
    {
      "cell_type": "code",
      "source": [
        "df.shape"
      ],
      "metadata": {
        "colab": {
          "base_uri": "https://localhost:8080/"
        },
        "id": "MUBxhlSv8c3u",
        "outputId": "b33e5dfe-ed70-4d69-83e8-48e02a0e9b39"
      },
      "execution_count": null,
      "outputs": [
        {
          "output_type": "execute_result",
          "data": {
            "text/plain": [
              "(92000, 1025)"
            ]
          },
          "metadata": {},
          "execution_count": 8
        }
      ]
    },
    {
      "cell_type": "code",
      "source": [
        "df[\"character\"].unique()"
      ],
      "metadata": {
        "colab": {
          "base_uri": "https://localhost:8080/"
        },
        "id": "ryM2Ldl3Oze4",
        "outputId": "24f06108-7bd6-4c90-ccc4-8e07386c3c4d"
      },
      "execution_count": null,
      "outputs": [
        {
          "output_type": "execute_result",
          "data": {
            "text/plain": [
              "array(['character_01_ka', 'character_02_kha', 'character_03_ga',\n",
              "       'character_04_gha', 'character_05_kna', 'character_06_cha',\n",
              "       'character_07_chha', 'character_08_ja', 'character_09_jha',\n",
              "       'character_10_yna', 'character_11_taamatar', 'character_12_thaa',\n",
              "       'character_13_daa', 'character_14_dhaa', 'character_15_adna',\n",
              "       'character_16_tabala', 'character_17_tha', 'character_18_da',\n",
              "       'character_19_dha', 'character_20_na', 'character_21_pa',\n",
              "       'character_22_pha', 'character_23_ba', 'character_24_bha',\n",
              "       'character_25_ma', 'character_26_yaw', 'character_27_ra',\n",
              "       'character_28_la', 'character_29_waw', 'character_30_motosaw',\n",
              "       'character_31_petchiryakha', 'character_32_patalosaw',\n",
              "       'character_33_ha', 'character_34_chhya', 'character_35_tra',\n",
              "       'character_36_gya', 'digit_0', 'digit_1', 'digit_2', 'digit_3',\n",
              "       'digit_4', 'digit_5', 'digit_6', 'digit_7', 'digit_8', 'digit_9'],\n",
              "      dtype=object)"
            ]
          },
          "metadata": {},
          "execution_count": 9
        }
      ]
    },
    {
      "cell_type": "code",
      "source": [
        "character_list = list(df[\"character\"].unique())"
      ],
      "metadata": {
        "id": "oQnVH67mBgVt"
      },
      "execution_count": null,
      "outputs": []
    },
    {
      "cell_type": "markdown",
      "source": [
        "Labeling characters from 10 to 35"
      ],
      "metadata": {
        "id": "UPWz2EQkOcFT"
      }
    },
    {
      "cell_type": "code",
      "source": [
        "data_list = csv_list[1:]\n",
        "#print(last_label)\n",
        "#print(data_list)\n",
        "#data_with_label\n",
        "#print(\"Total no of rows:\", len(data_list))\n",
        "name_of_char = set()\n",
        "label_to_char = dict()\n",
        "for i in range(len(data_list)):\n",
        "  last_label = data_list[i][1024]\n",
        "  if last_label[0] == 'c':\n",
        "    label_to_char[(9 + int(last_label[10:12]))] = last_label\n",
        "    data_list[i][1024] = (9 + int(last_label[10:12]))\n",
        "    \n",
        "    name_of_char.add(last_label[14:])\n",
        "  elif last_label[0]=='d':\n",
        "    label_to_char[int(last_label[6:])] = last_label\n",
        "    data_list[i][1024]=last_label[6:]\n",
        "df2 = pd.DataFrame(data_list)"
      ],
      "metadata": {
        "id": "xwot9yRyhi4x"
      },
      "execution_count": null,
      "outputs": []
    },
    {
      "cell_type": "code",
      "source": [
        "df2.head()\n",
        "#df2[\"1024\"].unique()"
      ],
      "metadata": {
        "colab": {
          "base_uri": "https://localhost:8080/",
          "height": 235
        },
        "id": "Wb7hj9vSm3-J",
        "outputId": "b65133bd-d8cd-4a54-998d-9a5252745da8"
      },
      "execution_count": null,
      "outputs": [
        {
          "output_type": "execute_result",
          "data": {
            "text/plain": [
              "  0    1    2    3    4    5    6    7    8    9     ... 1015 1016 1017 1018  \\\n",
              "0    0    0    0    0    0    0    0    0    0    0  ...    0    0    0    0   \n",
              "1    0    0    0    0    0    0    0    0    0    0  ...    0    0    0    0   \n",
              "2    0    0    0    0    0    0    0    0    0    0  ...    0    0    0    0   \n",
              "3    0    0    0    0    0    0    0    0    0    0  ...    0    0    0    0   \n",
              "4    0    0    0    0    0    0    0    0    0    0  ...    0    0    0    0   \n",
              "\n",
              "  1019 1020 1021 1022 1023 1024  \n",
              "0    0    0    0    0    0   10  \n",
              "1    0    0    0    0    0   10  \n",
              "2    0    0    0    0    0   10  \n",
              "3    0    0    0    0    0   10  \n",
              "4    0    0    0    0    0   10  \n",
              "\n",
              "[5 rows x 1025 columns]"
            ],
            "text/html": [
              "\n",
              "  <div id=\"df-2e8c160e-7dd5-461d-b514-6e8f41366d68\">\n",
              "    <div class=\"colab-df-container\">\n",
              "      <div>\n",
              "<style scoped>\n",
              "    .dataframe tbody tr th:only-of-type {\n",
              "        vertical-align: middle;\n",
              "    }\n",
              "\n",
              "    .dataframe tbody tr th {\n",
              "        vertical-align: top;\n",
              "    }\n",
              "\n",
              "    .dataframe thead th {\n",
              "        text-align: right;\n",
              "    }\n",
              "</style>\n",
              "<table border=\"1\" class=\"dataframe\">\n",
              "  <thead>\n",
              "    <tr style=\"text-align: right;\">\n",
              "      <th></th>\n",
              "      <th>0</th>\n",
              "      <th>1</th>\n",
              "      <th>2</th>\n",
              "      <th>3</th>\n",
              "      <th>4</th>\n",
              "      <th>5</th>\n",
              "      <th>6</th>\n",
              "      <th>7</th>\n",
              "      <th>8</th>\n",
              "      <th>9</th>\n",
              "      <th>...</th>\n",
              "      <th>1015</th>\n",
              "      <th>1016</th>\n",
              "      <th>1017</th>\n",
              "      <th>1018</th>\n",
              "      <th>1019</th>\n",
              "      <th>1020</th>\n",
              "      <th>1021</th>\n",
              "      <th>1022</th>\n",
              "      <th>1023</th>\n",
              "      <th>1024</th>\n",
              "    </tr>\n",
              "  </thead>\n",
              "  <tbody>\n",
              "    <tr>\n",
              "      <th>0</th>\n",
              "      <td>0</td>\n",
              "      <td>0</td>\n",
              "      <td>0</td>\n",
              "      <td>0</td>\n",
              "      <td>0</td>\n",
              "      <td>0</td>\n",
              "      <td>0</td>\n",
              "      <td>0</td>\n",
              "      <td>0</td>\n",
              "      <td>0</td>\n",
              "      <td>...</td>\n",
              "      <td>0</td>\n",
              "      <td>0</td>\n",
              "      <td>0</td>\n",
              "      <td>0</td>\n",
              "      <td>0</td>\n",
              "      <td>0</td>\n",
              "      <td>0</td>\n",
              "      <td>0</td>\n",
              "      <td>0</td>\n",
              "      <td>10</td>\n",
              "    </tr>\n",
              "    <tr>\n",
              "      <th>1</th>\n",
              "      <td>0</td>\n",
              "      <td>0</td>\n",
              "      <td>0</td>\n",
              "      <td>0</td>\n",
              "      <td>0</td>\n",
              "      <td>0</td>\n",
              "      <td>0</td>\n",
              "      <td>0</td>\n",
              "      <td>0</td>\n",
              "      <td>0</td>\n",
              "      <td>...</td>\n",
              "      <td>0</td>\n",
              "      <td>0</td>\n",
              "      <td>0</td>\n",
              "      <td>0</td>\n",
              "      <td>0</td>\n",
              "      <td>0</td>\n",
              "      <td>0</td>\n",
              "      <td>0</td>\n",
              "      <td>0</td>\n",
              "      <td>10</td>\n",
              "    </tr>\n",
              "    <tr>\n",
              "      <th>2</th>\n",
              "      <td>0</td>\n",
              "      <td>0</td>\n",
              "      <td>0</td>\n",
              "      <td>0</td>\n",
              "      <td>0</td>\n",
              "      <td>0</td>\n",
              "      <td>0</td>\n",
              "      <td>0</td>\n",
              "      <td>0</td>\n",
              "      <td>0</td>\n",
              "      <td>...</td>\n",
              "      <td>0</td>\n",
              "      <td>0</td>\n",
              "      <td>0</td>\n",
              "      <td>0</td>\n",
              "      <td>0</td>\n",
              "      <td>0</td>\n",
              "      <td>0</td>\n",
              "      <td>0</td>\n",
              "      <td>0</td>\n",
              "      <td>10</td>\n",
              "    </tr>\n",
              "    <tr>\n",
              "      <th>3</th>\n",
              "      <td>0</td>\n",
              "      <td>0</td>\n",
              "      <td>0</td>\n",
              "      <td>0</td>\n",
              "      <td>0</td>\n",
              "      <td>0</td>\n",
              "      <td>0</td>\n",
              "      <td>0</td>\n",
              "      <td>0</td>\n",
              "      <td>0</td>\n",
              "      <td>...</td>\n",
              "      <td>0</td>\n",
              "      <td>0</td>\n",
              "      <td>0</td>\n",
              "      <td>0</td>\n",
              "      <td>0</td>\n",
              "      <td>0</td>\n",
              "      <td>0</td>\n",
              "      <td>0</td>\n",
              "      <td>0</td>\n",
              "      <td>10</td>\n",
              "    </tr>\n",
              "    <tr>\n",
              "      <th>4</th>\n",
              "      <td>0</td>\n",
              "      <td>0</td>\n",
              "      <td>0</td>\n",
              "      <td>0</td>\n",
              "      <td>0</td>\n",
              "      <td>0</td>\n",
              "      <td>0</td>\n",
              "      <td>0</td>\n",
              "      <td>0</td>\n",
              "      <td>0</td>\n",
              "      <td>...</td>\n",
              "      <td>0</td>\n",
              "      <td>0</td>\n",
              "      <td>0</td>\n",
              "      <td>0</td>\n",
              "      <td>0</td>\n",
              "      <td>0</td>\n",
              "      <td>0</td>\n",
              "      <td>0</td>\n",
              "      <td>0</td>\n",
              "      <td>10</td>\n",
              "    </tr>\n",
              "  </tbody>\n",
              "</table>\n",
              "<p>5 rows × 1025 columns</p>\n",
              "</div>\n",
              "      <button class=\"colab-df-convert\" onclick=\"convertToInteractive('df-2e8c160e-7dd5-461d-b514-6e8f41366d68')\"\n",
              "              title=\"Convert this dataframe to an interactive table.\"\n",
              "              style=\"display:none;\">\n",
              "        \n",
              "  <svg xmlns=\"http://www.w3.org/2000/svg\" height=\"24px\"viewBox=\"0 0 24 24\"\n",
              "       width=\"24px\">\n",
              "    <path d=\"M0 0h24v24H0V0z\" fill=\"none\"/>\n",
              "    <path d=\"M18.56 5.44l.94 2.06.94-2.06 2.06-.94-2.06-.94-.94-2.06-.94 2.06-2.06.94zm-11 1L8.5 8.5l.94-2.06 2.06-.94-2.06-.94L8.5 2.5l-.94 2.06-2.06.94zm10 10l.94 2.06.94-2.06 2.06-.94-2.06-.94-.94-2.06-.94 2.06-2.06.94z\"/><path d=\"M17.41 7.96l-1.37-1.37c-.4-.4-.92-.59-1.43-.59-.52 0-1.04.2-1.43.59L10.3 9.45l-7.72 7.72c-.78.78-.78 2.05 0 2.83L4 21.41c.39.39.9.59 1.41.59.51 0 1.02-.2 1.41-.59l7.78-7.78 2.81-2.81c.8-.78.8-2.07 0-2.86zM5.41 20L4 18.59l7.72-7.72 1.47 1.35L5.41 20z\"/>\n",
              "  </svg>\n",
              "      </button>\n",
              "      \n",
              "  <style>\n",
              "    .colab-df-container {\n",
              "      display:flex;\n",
              "      flex-wrap:wrap;\n",
              "      gap: 12px;\n",
              "    }\n",
              "\n",
              "    .colab-df-convert {\n",
              "      background-color: #E8F0FE;\n",
              "      border: none;\n",
              "      border-radius: 50%;\n",
              "      cursor: pointer;\n",
              "      display: none;\n",
              "      fill: #1967D2;\n",
              "      height: 32px;\n",
              "      padding: 0 0 0 0;\n",
              "      width: 32px;\n",
              "    }\n",
              "\n",
              "    .colab-df-convert:hover {\n",
              "      background-color: #E2EBFA;\n",
              "      box-shadow: 0px 1px 2px rgba(60, 64, 67, 0.3), 0px 1px 3px 1px rgba(60, 64, 67, 0.15);\n",
              "      fill: #174EA6;\n",
              "    }\n",
              "\n",
              "    [theme=dark] .colab-df-convert {\n",
              "      background-color: #3B4455;\n",
              "      fill: #D2E3FC;\n",
              "    }\n",
              "\n",
              "    [theme=dark] .colab-df-convert:hover {\n",
              "      background-color: #434B5C;\n",
              "      box-shadow: 0px 1px 3px 1px rgba(0, 0, 0, 0.15);\n",
              "      filter: drop-shadow(0px 1px 2px rgba(0, 0, 0, 0.3));\n",
              "      fill: #FFFFFF;\n",
              "    }\n",
              "  </style>\n",
              "\n",
              "      <script>\n",
              "        const buttonEl =\n",
              "          document.querySelector('#df-2e8c160e-7dd5-461d-b514-6e8f41366d68 button.colab-df-convert');\n",
              "        buttonEl.style.display =\n",
              "          google.colab.kernel.accessAllowed ? 'block' : 'none';\n",
              "\n",
              "        async function convertToInteractive(key) {\n",
              "          const element = document.querySelector('#df-2e8c160e-7dd5-461d-b514-6e8f41366d68');\n",
              "          const dataTable =\n",
              "            await google.colab.kernel.invokeFunction('convertToInteractive',\n",
              "                                                     [key], {});\n",
              "          if (!dataTable) return;\n",
              "\n",
              "          const docLinkHtml = 'Like what you see? Visit the ' +\n",
              "            '<a target=\"_blank\" href=https://colab.research.google.com/notebooks/data_table.ipynb>data table notebook</a>'\n",
              "            + ' to learn more about interactive tables.';\n",
              "          element.innerHTML = '';\n",
              "          dataTable['output_type'] = 'display_data';\n",
              "          await google.colab.output.renderOutput(dataTable, element);\n",
              "          const docLink = document.createElement('div');\n",
              "          docLink.innerHTML = docLinkHtml;\n",
              "          element.appendChild(docLink);\n",
              "        }\n",
              "      </script>\n",
              "    </div>\n",
              "  </div>\n",
              "  "
            ]
          },
          "metadata": {},
          "execution_count": 12
        }
      ]
    },
    {
      "cell_type": "code",
      "source": [
        "df2.tail()"
      ],
      "metadata": {
        "colab": {
          "base_uri": "https://localhost:8080/",
          "height": 235
        },
        "id": "3FyoAUMJnASf",
        "outputId": "b0d82484-2f2f-4ebe-a4e4-3da04f00d5bc"
      },
      "execution_count": null,
      "outputs": [
        {
          "output_type": "execute_result",
          "data": {
            "text/plain": [
              "      0    1    2    3    4    5    6    7    8    9     ... 1015 1016 1017  \\\n",
              "91995    0    0    0    0    0    0    0    0    0    0  ...    0    0    0   \n",
              "91996    0    0    0    0    0    0    0    0    0    0  ...    0    0    0   \n",
              "91997    0    0    0    0    0    0    0    0    0    0  ...    0    0    0   \n",
              "91998    0    0    0    0    0    0    0    0    0    0  ...    0    0    0   \n",
              "91999    0    0    0    0    0    0    0    0    0    0  ...    0    0    0   \n",
              "\n",
              "      1018 1019 1020 1021 1022 1023 1024  \n",
              "91995    0    0    0    0    0    0    9  \n",
              "91996    0    0    0    0    0    0    9  \n",
              "91997    0    0    0    0    0    0    9  \n",
              "91998    0    0    0    0    0    0    9  \n",
              "91999    0    0    0    0    0    0    9  \n",
              "\n",
              "[5 rows x 1025 columns]"
            ],
            "text/html": [
              "\n",
              "  <div id=\"df-bd95d2dd-5662-4f80-ad62-3874bd943cc4\">\n",
              "    <div class=\"colab-df-container\">\n",
              "      <div>\n",
              "<style scoped>\n",
              "    .dataframe tbody tr th:only-of-type {\n",
              "        vertical-align: middle;\n",
              "    }\n",
              "\n",
              "    .dataframe tbody tr th {\n",
              "        vertical-align: top;\n",
              "    }\n",
              "\n",
              "    .dataframe thead th {\n",
              "        text-align: right;\n",
              "    }\n",
              "</style>\n",
              "<table border=\"1\" class=\"dataframe\">\n",
              "  <thead>\n",
              "    <tr style=\"text-align: right;\">\n",
              "      <th></th>\n",
              "      <th>0</th>\n",
              "      <th>1</th>\n",
              "      <th>2</th>\n",
              "      <th>3</th>\n",
              "      <th>4</th>\n",
              "      <th>5</th>\n",
              "      <th>6</th>\n",
              "      <th>7</th>\n",
              "      <th>8</th>\n",
              "      <th>9</th>\n",
              "      <th>...</th>\n",
              "      <th>1015</th>\n",
              "      <th>1016</th>\n",
              "      <th>1017</th>\n",
              "      <th>1018</th>\n",
              "      <th>1019</th>\n",
              "      <th>1020</th>\n",
              "      <th>1021</th>\n",
              "      <th>1022</th>\n",
              "      <th>1023</th>\n",
              "      <th>1024</th>\n",
              "    </tr>\n",
              "  </thead>\n",
              "  <tbody>\n",
              "    <tr>\n",
              "      <th>91995</th>\n",
              "      <td>0</td>\n",
              "      <td>0</td>\n",
              "      <td>0</td>\n",
              "      <td>0</td>\n",
              "      <td>0</td>\n",
              "      <td>0</td>\n",
              "      <td>0</td>\n",
              "      <td>0</td>\n",
              "      <td>0</td>\n",
              "      <td>0</td>\n",
              "      <td>...</td>\n",
              "      <td>0</td>\n",
              "      <td>0</td>\n",
              "      <td>0</td>\n",
              "      <td>0</td>\n",
              "      <td>0</td>\n",
              "      <td>0</td>\n",
              "      <td>0</td>\n",
              "      <td>0</td>\n",
              "      <td>0</td>\n",
              "      <td>9</td>\n",
              "    </tr>\n",
              "    <tr>\n",
              "      <th>91996</th>\n",
              "      <td>0</td>\n",
              "      <td>0</td>\n",
              "      <td>0</td>\n",
              "      <td>0</td>\n",
              "      <td>0</td>\n",
              "      <td>0</td>\n",
              "      <td>0</td>\n",
              "      <td>0</td>\n",
              "      <td>0</td>\n",
              "      <td>0</td>\n",
              "      <td>...</td>\n",
              "      <td>0</td>\n",
              "      <td>0</td>\n",
              "      <td>0</td>\n",
              "      <td>0</td>\n",
              "      <td>0</td>\n",
              "      <td>0</td>\n",
              "      <td>0</td>\n",
              "      <td>0</td>\n",
              "      <td>0</td>\n",
              "      <td>9</td>\n",
              "    </tr>\n",
              "    <tr>\n",
              "      <th>91997</th>\n",
              "      <td>0</td>\n",
              "      <td>0</td>\n",
              "      <td>0</td>\n",
              "      <td>0</td>\n",
              "      <td>0</td>\n",
              "      <td>0</td>\n",
              "      <td>0</td>\n",
              "      <td>0</td>\n",
              "      <td>0</td>\n",
              "      <td>0</td>\n",
              "      <td>...</td>\n",
              "      <td>0</td>\n",
              "      <td>0</td>\n",
              "      <td>0</td>\n",
              "      <td>0</td>\n",
              "      <td>0</td>\n",
              "      <td>0</td>\n",
              "      <td>0</td>\n",
              "      <td>0</td>\n",
              "      <td>0</td>\n",
              "      <td>9</td>\n",
              "    </tr>\n",
              "    <tr>\n",
              "      <th>91998</th>\n",
              "      <td>0</td>\n",
              "      <td>0</td>\n",
              "      <td>0</td>\n",
              "      <td>0</td>\n",
              "      <td>0</td>\n",
              "      <td>0</td>\n",
              "      <td>0</td>\n",
              "      <td>0</td>\n",
              "      <td>0</td>\n",
              "      <td>0</td>\n",
              "      <td>...</td>\n",
              "      <td>0</td>\n",
              "      <td>0</td>\n",
              "      <td>0</td>\n",
              "      <td>0</td>\n",
              "      <td>0</td>\n",
              "      <td>0</td>\n",
              "      <td>0</td>\n",
              "      <td>0</td>\n",
              "      <td>0</td>\n",
              "      <td>9</td>\n",
              "    </tr>\n",
              "    <tr>\n",
              "      <th>91999</th>\n",
              "      <td>0</td>\n",
              "      <td>0</td>\n",
              "      <td>0</td>\n",
              "      <td>0</td>\n",
              "      <td>0</td>\n",
              "      <td>0</td>\n",
              "      <td>0</td>\n",
              "      <td>0</td>\n",
              "      <td>0</td>\n",
              "      <td>0</td>\n",
              "      <td>...</td>\n",
              "      <td>0</td>\n",
              "      <td>0</td>\n",
              "      <td>0</td>\n",
              "      <td>0</td>\n",
              "      <td>0</td>\n",
              "      <td>0</td>\n",
              "      <td>0</td>\n",
              "      <td>0</td>\n",
              "      <td>0</td>\n",
              "      <td>9</td>\n",
              "    </tr>\n",
              "  </tbody>\n",
              "</table>\n",
              "<p>5 rows × 1025 columns</p>\n",
              "</div>\n",
              "      <button class=\"colab-df-convert\" onclick=\"convertToInteractive('df-bd95d2dd-5662-4f80-ad62-3874bd943cc4')\"\n",
              "              title=\"Convert this dataframe to an interactive table.\"\n",
              "              style=\"display:none;\">\n",
              "        \n",
              "  <svg xmlns=\"http://www.w3.org/2000/svg\" height=\"24px\"viewBox=\"0 0 24 24\"\n",
              "       width=\"24px\">\n",
              "    <path d=\"M0 0h24v24H0V0z\" fill=\"none\"/>\n",
              "    <path d=\"M18.56 5.44l.94 2.06.94-2.06 2.06-.94-2.06-.94-.94-2.06-.94 2.06-2.06.94zm-11 1L8.5 8.5l.94-2.06 2.06-.94-2.06-.94L8.5 2.5l-.94 2.06-2.06.94zm10 10l.94 2.06.94-2.06 2.06-.94-2.06-.94-.94-2.06-.94 2.06-2.06.94z\"/><path d=\"M17.41 7.96l-1.37-1.37c-.4-.4-.92-.59-1.43-.59-.52 0-1.04.2-1.43.59L10.3 9.45l-7.72 7.72c-.78.78-.78 2.05 0 2.83L4 21.41c.39.39.9.59 1.41.59.51 0 1.02-.2 1.41-.59l7.78-7.78 2.81-2.81c.8-.78.8-2.07 0-2.86zM5.41 20L4 18.59l7.72-7.72 1.47 1.35L5.41 20z\"/>\n",
              "  </svg>\n",
              "      </button>\n",
              "      \n",
              "  <style>\n",
              "    .colab-df-container {\n",
              "      display:flex;\n",
              "      flex-wrap:wrap;\n",
              "      gap: 12px;\n",
              "    }\n",
              "\n",
              "    .colab-df-convert {\n",
              "      background-color: #E8F0FE;\n",
              "      border: none;\n",
              "      border-radius: 50%;\n",
              "      cursor: pointer;\n",
              "      display: none;\n",
              "      fill: #1967D2;\n",
              "      height: 32px;\n",
              "      padding: 0 0 0 0;\n",
              "      width: 32px;\n",
              "    }\n",
              "\n",
              "    .colab-df-convert:hover {\n",
              "      background-color: #E2EBFA;\n",
              "      box-shadow: 0px 1px 2px rgba(60, 64, 67, 0.3), 0px 1px 3px 1px rgba(60, 64, 67, 0.15);\n",
              "      fill: #174EA6;\n",
              "    }\n",
              "\n",
              "    [theme=dark] .colab-df-convert {\n",
              "      background-color: #3B4455;\n",
              "      fill: #D2E3FC;\n",
              "    }\n",
              "\n",
              "    [theme=dark] .colab-df-convert:hover {\n",
              "      background-color: #434B5C;\n",
              "      box-shadow: 0px 1px 3px 1px rgba(0, 0, 0, 0.15);\n",
              "      filter: drop-shadow(0px 1px 2px rgba(0, 0, 0, 0.3));\n",
              "      fill: #FFFFFF;\n",
              "    }\n",
              "  </style>\n",
              "\n",
              "      <script>\n",
              "        const buttonEl =\n",
              "          document.querySelector('#df-bd95d2dd-5662-4f80-ad62-3874bd943cc4 button.colab-df-convert');\n",
              "        buttonEl.style.display =\n",
              "          google.colab.kernel.accessAllowed ? 'block' : 'none';\n",
              "\n",
              "        async function convertToInteractive(key) {\n",
              "          const element = document.querySelector('#df-bd95d2dd-5662-4f80-ad62-3874bd943cc4');\n",
              "          const dataTable =\n",
              "            await google.colab.kernel.invokeFunction('convertToInteractive',\n",
              "                                                     [key], {});\n",
              "          if (!dataTable) return;\n",
              "\n",
              "          const docLinkHtml = 'Like what you see? Visit the ' +\n",
              "            '<a target=\"_blank\" href=https://colab.research.google.com/notebooks/data_table.ipynb>data table notebook</a>'\n",
              "            + ' to learn more about interactive tables.';\n",
              "          element.innerHTML = '';\n",
              "          dataTable['output_type'] = 'display_data';\n",
              "          await google.colab.output.renderOutput(dataTable, element);\n",
              "          const docLink = document.createElement('div');\n",
              "          docLink.innerHTML = docLinkHtml;\n",
              "          element.appendChild(docLink);\n",
              "        }\n",
              "      </script>\n",
              "    </div>\n",
              "  </div>\n",
              "  "
            ]
          },
          "metadata": {},
          "execution_count": 13
        }
      ]
    },
    {
      "cell_type": "code",
      "source": [
        "df.shape"
      ],
      "metadata": {
        "colab": {
          "base_uri": "https://localhost:8080/"
        },
        "id": "7vsWvD8t-Xas",
        "outputId": "b9f8acd2-01db-4f1a-a3a4-ba5017037917"
      },
      "execution_count": null,
      "outputs": [
        {
          "output_type": "execute_result",
          "data": {
            "text/plain": [
              "(92000, 1025)"
            ]
          },
          "metadata": {},
          "execution_count": 14
        }
      ]
    },
    {
      "cell_type": "markdown",
      "source": [
        "##Data Split (8:2)\n",
        "\n"
      ],
      "metadata": {
        "id": "RDBO8hpYUTKy"
      }
    },
    {
      "cell_type": "code",
      "source": [
        "perc = 0.8\n",
        "\n",
        "random.shuffle(data_list)\n",
        "train_amt = int(len(data_list)*perc)\n",
        "test_amt = len(data_list)-train_amt\n",
        "\n",
        "Train_data = np.array(data_list[:train_amt+1], dtype = float)\n",
        "Test_data = np.array(data_list[train_amt+1:], dtype = float)\n",
        "\n",
        "TrainLabels = Train_data[:,1024]\n",
        "TestLabels = np.array(Test_data[:,1024], dtype = float)\n",
        "TrainImages = np.array(Train_data[:,:1024], dtype = float)\n",
        "TestImages = np.array(Test_data[:,:1024], dtype = float)\n"
      ],
      "metadata": {
        "id": "uVQ1KzcNnSml"
      },
      "execution_count": null,
      "outputs": []
    },
    {
      "cell_type": "code",
      "source": [
        "TrainImages = np.reshape(TrainImages, (73601,32,32))\n",
        "TestImages = np.reshape(TestImages, (18399,32,32))"
      ],
      "metadata": {
        "id": "ryhqyfN1TPas"
      },
      "execution_count": null,
      "outputs": []
    },
    {
      "cell_type": "code",
      "source": [
        "print(f\"Training images has shape: {TrainImages.shape} and dtype: {TrainImages.dtype}\")\n",
        "print(f\"Training labels has shape: {TrainLabels.shape} and dtype: {TrainLabels.dtype}\")\n",
        "print(f\"Validation images has shape: {TestImages.shape} and dtype: {TestImages.dtype}\")\n",
        "print(f\"Validation labels has shape: {TestLabels.shape} and dtype: {TestLabels.dtype}\")"
      ],
      "metadata": {
        "colab": {
          "base_uri": "https://localhost:8080/"
        },
        "id": "RWEuYw1KpyUe",
        "outputId": "c9e3bf6b-395c-4027-a907-553ed243b09c"
      },
      "execution_count": null,
      "outputs": [
        {
          "output_type": "stream",
          "name": "stdout",
          "text": [
            "Training images has shape: (73601, 32, 32) and dtype: float64\n",
            "Training labels has shape: (73601,) and dtype: float64\n",
            "Validation images has shape: (18399, 32, 32) and dtype: float64\n",
            "Validation labels has shape: (18399,) and dtype: float64\n"
          ]
        }
      ]
    },
    {
      "cell_type": "markdown",
      "source": [
        "##Data Visualization"
      ],
      "metadata": {
        "id": "otzkuvN_UHuE"
      }
    },
    {
      "cell_type": "code",
      "source": [
        "def plot_categories(training_images, training_labels):\n",
        "  fig, axes = plt.subplots(1, 9, figsize=(16, 15))\n",
        "  axes = axes.flatten()\n",
        "  letters = character_list\n",
        "\n",
        "  for k in range(9):\n",
        "    img = training_images[k]\n",
        "    img = np.expand_dims(img, axis=-1)\n",
        "    img = array_to_img(img)\n",
        "    ax = axes[k]\n",
        "    ax.imshow(img, cmap=\"Greys_r\")\n",
        "    #ax.set_title(f\"{letters[int(training_labels[k])]}\")\n",
        "    ax.set_axis_off()\n",
        "\n",
        "  plt.tight_layout()\n",
        "  plt.show()\n",
        "\n",
        "plot_categories(TrainImages, TrainLabels)"
      ],
      "metadata": {
        "id": "2SGwYJrxr1td",
        "colab": {
          "base_uri": "https://localhost:8080/",
          "height": 128
        },
        "outputId": "eb4d8621-cb42-4053-965e-bd7bb885e5a5"
      },
      "execution_count": null,
      "outputs": [
        {
          "output_type": "display_data",
          "data": {
            "text/plain": [
              "<Figure size 1152x1080 with 9 Axes>"
            ],
            "image/png": "[encoded data removed]"
          },
          "metadata": {
            "needs_background": "light"
          }
        }
      ]
    },
    {
      "cell_type": "markdown",
      "source": [
        "##Data Augmentation"
      ],
      "metadata": {
        "id": "LxDPxL4hUDT-"
      }
    },
    {
      "cell_type": "code",
      "source": [
        "def train_val_generators(training_images, training_labels, validation_images, validation_labels):\n",
        " \n",
        "  #Increasing the dimension of the image from 32,32 to 32,32,1.\n",
        "  training_images = np.expand_dims(training_images, axis = 3)\n",
        "  validation_images = np.expand_dims(validation_images, axis = 3)\n",
        "\n",
        "  #Augmenting the data with appropriate parameters.\n",
        "  train_datagen = ImageDataGenerator(rescale = 1./255,\n",
        "                                     rotation_range = 10,\n",
        "                                     width_shift_range = 0.1,\n",
        "                                     height_shift_range = 0.1,\n",
        "                                     shear_range = 0.2,\n",
        "                                     zoom_range = 0.2,\n",
        "                                     fill_mode = 'nearest',\n",
        "                                     )\n",
        "\n",
        "\n",
        "  # Pass in the appropriate arguments to the flow method\n",
        "  train_generator = train_datagen.flow(x=training_images,\n",
        "                                       y=training_labels,\n",
        "                                       batch_size=32) \n",
        "\n",
        "  \n",
        "  # Instantiate the ImageDataGenerator class for validation set(don't forget to set the rescale argument)\n",
        "  validation_datagen = ImageDataGenerator(rescale = 1./255,\n",
        "                                     )\n",
        "\n",
        "  # Pass in the appropriate arguments to the flow method\n",
        "  validation_generator = validation_datagen.flow(x=validation_images,\n",
        "                                                 y=validation_labels,\n",
        "                                                 batch_size=32) \n",
        "\n",
        "  ### END CODE HERE\n",
        "\n",
        "  return train_generator, validation_generator"
      ],
      "metadata": {
        "id": "LV6lPYhPGtD9"
      },
      "execution_count": null,
      "outputs": []
    },
    {
      "cell_type": "code",
      "source": [
        "train_generator, validation_generator = train_val_generators(TrainImages, TrainLabels, TestImages, TestLabels)\n",
        "\n",
        "print(f\"Images of training generator have shape: {train_generator.x.shape}\")\n",
        "print(f\"Labels of training generator have shape: {train_generator.y.shape}\")\n",
        "print(f\"Images of validation generator have shape: {validation_generator.x.shape}\")\n",
        "print(f\"Labels of validation generator have shape: {validation_generator.y.shape}\")"
      ],
      "metadata": {
        "colab": {
          "base_uri": "https://localhost:8080/"
        },
        "id": "3L-ZfpfpHEjq",
        "outputId": "61e84b47-853c-41bb-bfb6-16ea0d45d6f9"
      },
      "execution_count": null,
      "outputs": [
        {
          "output_type": "stream",
          "name": "stdout",
          "text": [
            "Images of training generator have shape: (73601, 32, 32, 1)\n",
            "Labels of training generator have shape: (73601,)\n",
            "Images of validation generator have shape: (18399, 32, 32, 1)\n",
            "Labels of validation generator have shape: (18399,)\n"
          ]
        }
      ]
    },
    {
      "cell_type": "code",
      "source": [
        "# Plot Utility\n",
        "def plot_graphs(history, string):\n",
        "  plt.plot(history.history[string])\n",
        "  plt.plot(history.history['val_'+string])\n",
        "  plt.xlabel(\"Epochs\")\n",
        "  plt.ylabel(string)\n",
        "  plt.legend([string, 'val_'+string])\n",
        "  plt.show()"
      ],
      "metadata": {
        "id": "Elj9D_INz9Dc"
      },
      "execution_count": null,
      "outputs": []
    },
    {
      "cell_type": "markdown",
      "source": [
        "##Convolutional Neural Network with Adam Optimizer\n"
      ],
      "metadata": {
        "id": "H_bfGCScLpTB"
      }
    },
    {
      "cell_type": "code",
      "source": [
        "def create_model_CNN_Adam():\n",
        "\n",
        "  \n",
        "  # Defining the model\n",
        "  model = tf.keras.Sequential([\n",
        "      tf.keras.layers.Conv2D(64, (3,3), activation='relu', input_shape=(32, 32, 1)),\n",
        "      tf.keras.layers.MaxPooling2D(2, 2),\n",
        "      tf.keras.layers.Conv2D(128, (3, 3), activation='relu'),\n",
        "      tf.keras.layers.MaxPooling2D(2, 2),\n",
        "      tf.keras.layers.Flatten(),\n",
        "      #tf.keras.layers.Dropout(0.2),\n",
        "      tf.keras.layers.Dense(128, activation = 'relu'),\n",
        "      tf.keras.layers.Dense(46, activation = 'softmax')\n",
        "  ])\n",
        "  \n",
        "\n",
        "  model.compile(optimizer = tf.keras.optimizers.Adam(learning_rate = 0.0005),\n",
        "                loss = tf.keras.losses.SparseCategoricalCrossentropy(),\n",
        "                metrics=['accuracy'])\n",
        "\n",
        "  ### END CODE HERE       \n",
        "  \n",
        "  return model"
      ],
      "metadata": {
        "id": "OHCLIvQaHbQK"
      },
      "execution_count": null,
      "outputs": []
    },
    {
      "cell_type": "code",
      "source": [
        "model = create_model_CNN_Adam()\n",
        "model.summary()\n",
        "\n",
        "# Train your model\n",
        "history = model.fit(train_generator,\n",
        "                    epochs=25,\n",
        "                    validation_data = validation_generator)"
      ],
      "metadata": {
        "colab": {
          "base_uri": "https://localhost:8080/"
        },
        "id": "qnww5p1YHerk",
        "outputId": "36a5f563-252f-44f2-8eb4-42e797160c36"
      },
      "execution_count": null,
      "outputs": [
        {
          "output_type": "stream",
          "name": "stdout",
          "text": [
            "Model: \"sequential_2\"\n",
            "_________________________________________________________________\n",
            " Layer (type)                Output Shape              Param #   \n",
            "=================================================================\n",
            " conv2d_4 (Conv2D)           (None, 30, 30, 64)        640       \n",
            "                                                                 \n",
            " max_pooling2d_4 (MaxPooling  (None, 15, 15, 64)       0         \n",
            " 2D)                                                             \n",
            "                                                                 \n",
            " conv2d_5 (Conv2D)           (None, 13, 13, 128)       73856     \n",
            "                                                                 \n",
            " max_pooling2d_5 (MaxPooling  (None, 6, 6, 128)        0         \n",
            " 2D)                                                             \n",
            "                                                                 \n",
            " flatten_2 (Flatten)         (None, 4608)              0         \n",
            "                                                                 \n",
            " dense_4 (Dense)             (None, 128)               589952    \n",
            "                                                                 \n",
            " dense_5 (Dense)             (None, 46)                5934      \n",
            "                                                                 \n",
            "=================================================================\n",
            "Total params: 670,382\n",
            "Trainable params: 670,382\n",
            "Non-trainable params: 0\n",
            "_________________________________________________________________\n",
            "Epoch 1/25\n",
            "2301/2301 [==============================] - 41s 18ms/step - loss: 1.1079 - accuracy: 0.6913 - val_loss: 0.2419 - val_accuracy: 0.9298\n",
            "Epoch 2/25\n",
            "2301/2301 [==============================] - 35s 15ms/step - loss: 0.4593 - accuracy: 0.8637 - val_loss: 0.1423 - val_accuracy: 0.9572\n",
            "Epoch 3/25\n",
            "2301/2301 [==============================] - 34s 15ms/step - loss: 0.3201 - accuracy: 0.9044 - val_loss: 0.1206 - val_accuracy: 0.9622\n",
            "Epoch 4/25\n",
            "2301/2301 [==============================] - 35s 15ms/step - loss: 0.2491 - accuracy: 0.9262 - val_loss: 0.0889 - val_accuracy: 0.9751\n",
            "Epoch 5/25\n",
            "2301/2301 [==============================] - 33s 14ms/step - loss: 0.2050 - accuracy: 0.9377 - val_loss: 0.0914 - val_accuracy: 0.9699\n",
            "Epoch 6/25\n",
            "2301/2301 [==============================] - 33s 14ms/step - loss: 0.1803 - accuracy: 0.9456 - val_loss: 0.0614 - val_accuracy: 0.9821\n",
            "Epoch 7/25\n",
            "2301/2301 [==============================] - 34s 15ms/step - loss: 0.1549 - accuracy: 0.9518 - val_loss: 0.0515 - val_accuracy: 0.9845\n",
            "Epoch 8/25\n",
            "2301/2301 [==============================] - 33s 15ms/step - loss: 0.1405 - accuracy: 0.9570 - val_loss: 0.0526 - val_accuracy: 0.9842\n",
            "Epoch 9/25\n",
            "2301/2301 [==============================] - 34s 15ms/step - loss: 0.1321 - accuracy: 0.9593 - val_loss: 0.0534 - val_accuracy: 0.9841\n",
            "Epoch 10/25\n",
            "2301/2301 [==============================] - 33s 14ms/step - loss: 0.1223 - accuracy: 0.9620 - val_loss: 0.0444 - val_accuracy: 0.9863\n",
            "Epoch 11/25\n",
            "2301/2301 [==============================] - 36s 15ms/step - loss: 0.1139 - accuracy: 0.9651 - val_loss: 0.0425 - val_accuracy: 0.9869\n",
            "Epoch 12/25\n",
            "2301/2301 [==============================] - 33s 14ms/step - loss: 0.1073 - accuracy: 0.9663 - val_loss: 0.0494 - val_accuracy: 0.9853\n",
            "Epoch 13/25\n",
            "2301/2301 [==============================] - 35s 15ms/step - loss: 0.1023 - accuracy: 0.9682 - val_loss: 0.0474 - val_accuracy: 0.9865\n",
            "Epoch 14/25\n",
            "2301/2301 [==============================] - 33s 14ms/step - loss: 0.0970 - accuracy: 0.9695 - val_loss: 0.0442 - val_accuracy: 0.9867\n",
            "Epoch 15/25\n",
            "2301/2301 [==============================] - 33s 14ms/step - loss: 0.0941 - accuracy: 0.9710 - val_loss: 0.0383 - val_accuracy: 0.9886\n",
            "Epoch 16/25\n",
            "2301/2301 [==============================] - 34s 15ms/step - loss: 0.0862 - accuracy: 0.9725 - val_loss: 0.0386 - val_accuracy: 0.9899\n",
            "Epoch 17/25\n",
            "2301/2301 [==============================] - 33s 14ms/step - loss: 0.0872 - accuracy: 0.9726 - val_loss: 0.0444 - val_accuracy: 0.9873\n",
            "Epoch 18/25\n",
            "2301/2301 [==============================] - 34s 15ms/step - loss: 0.0839 - accuracy: 0.9736 - val_loss: 0.0412 - val_accuracy: 0.9881\n",
            "Epoch 19/25\n",
            "2301/2301 [==============================] - 33s 14ms/step - loss: 0.0799 - accuracy: 0.9753 - val_loss: 0.0388 - val_accuracy: 0.9892\n",
            "Epoch 20/25\n",
            "2301/2301 [==============================] - 35s 15ms/step - loss: 0.0768 - accuracy: 0.9759 - val_loss: 0.0411 - val_accuracy: 0.9884\n",
            "Epoch 21/25\n",
            "2301/2301 [==============================] - 33s 14ms/step - loss: 0.0748 - accuracy: 0.9764 - val_loss: 0.0560 - val_accuracy: 0.9846\n",
            "Epoch 22/25\n",
            "2301/2301 [==============================] - 36s 15ms/step - loss: 0.0714 - accuracy: 0.9777 - val_loss: 0.0360 - val_accuracy: 0.9901\n",
            "Epoch 23/25\n",
            "2301/2301 [==============================] - 34s 15ms/step - loss: 0.0708 - accuracy: 0.9778 - val_loss: 0.0364 - val_accuracy: 0.9895\n",
            "Epoch 24/25\n",
            "2301/2301 [==============================] - 33s 14ms/step - loss: 0.0676 - accuracy: 0.9786 - val_loss: 0.0365 - val_accuracy: 0.9893\n",
            "Epoch 25/25\n",
            "2301/2301 [==============================] - 33s 14ms/step - loss: 0.0668 - accuracy: 0.9791 - val_loss: 0.0356 - val_accuracy: 0.9896\n"
          ]
        }
      ]
    },
    {
      "cell_type": "code",
      "source": [
        "plot_graphs(history, 'loss')\n",
        "plot_graphs(history, 'accuracy')"
      ],
      "metadata": {
        "colab": {
          "base_uri": "https://localhost:8080/",
          "height": 542
        },
        "id": "1cUL01Kk0BDd",
        "outputId": "5b4f966a-81ba-47c0-8b4d-41f17475e761"
      },
      "execution_count": null,
      "outputs": [
        {
          "output_type": "display_data",
          "data": {
            "text/plain": [
              "<Figure size 432x288 with 1 Axes>"
            ],
            "image/png": "[encoded data removed]"
          },
          "metadata": {
            "needs_background": "light"
          }
        },
        {
          "output_type": "display_data",
          "data": {
            "text/plain": [
              "<Figure size 432x288 with 1 Axes>"
            ],
            "image/png": "[encoded data removed]"
          },
          "metadata": {
            "needs_background": "light"
          }
        }
      ]
    },
    {
      "cell_type": "code",
      "source": [
        "from google.colab import drive\n",
        "drive.mount('/gdrive')"
      ],
      "metadata": {
        "colab": {
          "base_uri": "https://localhost:8080/"
        },
        "id": "kQEIAnac5TJr",
        "outputId": "39350dad-d45c-47e9-c36c-51682fc2f8cd"
      },
      "execution_count": null,
      "outputs": [
        {
          "output_type": "stream",
          "name": "stdout",
          "text": [
            "Drive already mounted at /gdrive; to attempt to forcibly remount, call drive.mount(\"/gdrive\", force_remount=True).\n"
          ]
        },
        {
          "output_type": "stream",
          "name": "stderr",
          "text": [
            "WARNING:absl:Found untraced functions such as _jit_compiled_convolution_op, _jit_compiled_convolution_op while saving (showing 2 of 2). These functions will not be directly callable after loading.\n"
          ]
        }
      ]
    },
    {
      "cell_type": "code",
      "source": [
        "model.save('/gdrive/MyDrive/Minor_Project/CNN_Adam')"
      ],
      "metadata": {
        "id": "CnLZ5GyNGUQo"
      },
      "execution_count": null,
      "outputs": []
    },
    {
      "cell_type": "code",
      "source": [
        "from google.colab import drive\n",
        "drive.mount('/content/drive')"
      ],
      "metadata": {
        "id": "W4HhsUVFGYhX"
      },
      "execution_count": null,
      "outputs": []
    },
    {
      "cell_type": "markdown",
      "source": [
        "##Lenet-5 Model with Adam Optimizer"
      ],
      "metadata": {
        "id": "gKWWe772L3AB"
      }
    },
    {
      "cell_type": "code",
      "source": [
        "def lenet_model_Adam():\n",
        "  lenet_5_model = tf.keras.models.Sequential([\n",
        "      tf.keras.layers.Conv2D(6, kernel_size=5, strides=1,  activation='tanh', input_shape=(32,32,1), padding='same'), #C1\n",
        "      tf.keras.layers.AveragePooling2D(), #S2\n",
        "      tf.keras.layers.Conv2D(16, kernel_size=5, strides=1, activation='tanh', padding='valid'), #C3\n",
        "      tf.keras.layers.AveragePooling2D(), #S4\n",
        "      tf.keras.layers.Conv2D(120, kernel_size=5, strides=1, activation='tanh', padding='valid'), #C5\n",
        "      tf.keras.layers.Flatten(), #Flatten    \n",
        "      tf.keras.layers.Dense(84, activation='tanh'), #F6\n",
        "      tf.keras.layers.Dense(46, activation='softmax') #Output layer\n",
        "  ])\n",
        "\n",
        "  lenet_5_model.compile(optimizer = tf.keras.optimizers.Adam(learning_rate = 0.0005),\n",
        "                loss = tf.keras.losses.SparseCategoricalCrossentropy(),\n",
        "                metrics=['accuracy'])\n",
        "\n",
        "  return lenet_5_model"
      ],
      "metadata": {
        "id": "b7UIA6XB_FaL"
      },
      "execution_count": null,
      "outputs": []
    },
    {
      "cell_type": "code",
      "source": [
        "model = lenet_model_Adam()\n",
        "model.summary()\n",
        "\n",
        "# Train your model\n",
        "history = model.fit(train_generator,\n",
        "                    epochs=25,\n",
        "                    validation_data = validation_generator)"
      ],
      "metadata": {
        "colab": {
          "base_uri": "https://localhost:8080/"
        },
        "id": "ACve9R7xRYEO",
        "outputId": "b894c992-e880-4811-a08a-7a483d49e6fc"
      },
      "execution_count": null,
      "outputs": [
        {
          "output_type": "stream",
          "name": "stdout",
          "text": [
            "Model: \"sequential_3\"\n",
            "_________________________________________________________________\n",
            " Layer (type)                Output Shape              Param #   \n",
            "=================================================================\n",
            " conv2d_6 (Conv2D)           (None, 32, 32, 6)         156       \n",
            "                                                                 \n",
            " average_pooling2d (AverageP  (None, 16, 16, 6)        0         \n",
            " ooling2D)                                                       \n",
            "                                                                 \n",
            " conv2d_7 (Conv2D)           (None, 12, 12, 16)        2416      \n",
            "                                                                 \n",
            " average_pooling2d_1 (Averag  (None, 6, 6, 16)         0         \n",
            " ePooling2D)                                                     \n",
            "                                                                 \n",
            " conv2d_8 (Conv2D)           (None, 2, 2, 120)         48120     \n",
            "                                                                 \n",
            " flatten_3 (Flatten)         (None, 480)               0         \n",
            "                                                                 \n",
            " dense_6 (Dense)             (None, 84)                40404     \n",
            "                                                                 \n",
            " dense_7 (Dense)             (None, 46)                3910      \n",
            "                                                                 \n",
            "=================================================================\n",
            "Total params: 95,006\n",
            "Trainable params: 95,006\n",
            "Non-trainable params: 0\n",
            "_________________________________________________________________\n",
            "Epoch 1/25\n",
            "2301/2301 [==============================] - 40s 17ms/step - loss: 1.8465 - accuracy: 0.5099 - val_loss: 0.7104 - val_accuracy: 0.8209\n",
            "Epoch 2/25\n",
            "2301/2301 [==============================] - 36s 16ms/step - loss: 0.7951 - accuracy: 0.7749 - val_loss: 0.3770 - val_accuracy: 0.8958\n",
            "Epoch 3/25\n",
            "2301/2301 [==============================] - 34s 15ms/step - loss: 0.5339 - accuracy: 0.8454 - val_loss: 0.2683 - val_accuracy: 0.9239\n",
            "Epoch 4/25\n",
            "2301/2301 [==============================] - 37s 16ms/step - loss: 0.4224 - accuracy: 0.8745 - val_loss: 0.1907 - val_accuracy: 0.9456\n",
            "Epoch 5/25\n",
            "2301/2301 [==============================] - 32s 14ms/step - loss: 0.3631 - accuracy: 0.8901 - val_loss: 0.1824 - val_accuracy: 0.9437\n",
            "Epoch 6/25\n",
            "2301/2301 [==============================] - 32s 14ms/step - loss: 0.3270 - accuracy: 0.9020 - val_loss: 0.1603 - val_accuracy: 0.9503\n",
            "Epoch 7/25\n",
            "2301/2301 [==============================] - 33s 14ms/step - loss: 0.2944 - accuracy: 0.9108 - val_loss: 0.1240 - val_accuracy: 0.9625\n",
            "Epoch 8/25\n",
            "2301/2301 [==============================] - 32s 14ms/step - loss: 0.2684 - accuracy: 0.9185 - val_loss: 0.1448 - val_accuracy: 0.9555\n",
            "Epoch 9/25\n",
            "2301/2301 [==============================] - 32s 14ms/step - loss: 0.2578 - accuracy: 0.9222 - val_loss: 0.1267 - val_accuracy: 0.9612\n",
            "Epoch 10/25\n",
            "2301/2301 [==============================] - 32s 14ms/step - loss: 0.2389 - accuracy: 0.9265 - val_loss: 0.1187 - val_accuracy: 0.9637\n",
            "Epoch 11/25\n",
            "2301/2301 [==============================] - 36s 15ms/step - loss: 0.2278 - accuracy: 0.9289 - val_loss: 0.1087 - val_accuracy: 0.9667\n",
            "Epoch 12/25\n",
            "2301/2301 [==============================] - 33s 14ms/step - loss: 0.2174 - accuracy: 0.9336 - val_loss: 0.1069 - val_accuracy: 0.9672\n",
            "Epoch 13/25\n",
            "2301/2301 [==============================] - 36s 16ms/step - loss: 0.2236 - accuracy: 0.9318 - val_loss: 0.1137 - val_accuracy: 0.9637\n",
            "Epoch 14/25\n",
            "2301/2301 [==============================] - 33s 14ms/step - loss: 0.2072 - accuracy: 0.9356 - val_loss: 0.0951 - val_accuracy: 0.9705\n",
            "Epoch 15/25\n",
            "2301/2301 [==============================] - 33s 14ms/step - loss: 0.1984 - accuracy: 0.9383 - val_loss: 0.0887 - val_accuracy: 0.9730\n",
            "Epoch 16/25\n",
            "2301/2301 [==============================] - 33s 14ms/step - loss: 0.1938 - accuracy: 0.9402 - val_loss: 0.0828 - val_accuracy: 0.9744\n",
            "Epoch 17/25\n",
            "2301/2301 [==============================] - 33s 14ms/step - loss: 0.1904 - accuracy: 0.9405 - val_loss: 0.0949 - val_accuracy: 0.9697\n",
            "Epoch 18/25\n",
            "2301/2301 [==============================] - 33s 14ms/step - loss: 0.1851 - accuracy: 0.9422 - val_loss: 0.0880 - val_accuracy: 0.9719\n",
            "Epoch 19/25\n",
            "2301/2301 [==============================] - 33s 14ms/step - loss: 0.1846 - accuracy: 0.9426 - val_loss: 0.0952 - val_accuracy: 0.9701\n",
            "Epoch 20/25\n",
            "2301/2301 [==============================] - 33s 14ms/step - loss: 0.1795 - accuracy: 0.9442 - val_loss: 0.0939 - val_accuracy: 0.9691\n",
            "Epoch 21/25\n",
            "2301/2301 [==============================] - 36s 16ms/step - loss: 0.1740 - accuracy: 0.9459 - val_loss: 0.0723 - val_accuracy: 0.9778\n",
            "Epoch 22/25\n",
            "2301/2301 [==============================] - 33s 14ms/step - loss: 0.1702 - accuracy: 0.9465 - val_loss: 0.0785 - val_accuracy: 0.9756\n",
            "Epoch 23/25\n",
            "2301/2301 [==============================] - 36s 16ms/step - loss: 0.1683 - accuracy: 0.9475 - val_loss: 0.0841 - val_accuracy: 0.9734\n",
            "Epoch 24/25\n",
            "2301/2301 [==============================] - 33s 14ms/step - loss: 0.1649 - accuracy: 0.9486 - val_loss: 0.0800 - val_accuracy: 0.9753\n",
            "Epoch 25/25\n",
            "2301/2301 [==============================] - 34s 15ms/step - loss: 0.1647 - accuracy: 0.9484 - val_loss: 0.0720 - val_accuracy: 0.9779\n"
          ]
        }
      ]
    },
    {
      "cell_type": "code",
      "source": [
        "plot_graphs(history, 'loss')\n",
        "plot_graphs(history, 'accuracy')"
      ],
      "metadata": {
        "colab": {
          "base_uri": "https://localhost:8080/",
          "height": 545
        },
        "id": "HLy25MO6Up-r",
        "outputId": "18d90c7a-d317-4ba7-902b-6a05cd8359b8"
      },
      "execution_count": null,
      "outputs": [
        {
          "output_type": "display_data",
          "data": {
            "text/plain": [
              "<Figure size 432x288 with 1 Axes>"
            ],
            "image/png": "[encoded data removed]"
          },
          "metadata": {
            "needs_background": "light"
          }
        },
        {
          "output_type": "display_data",
          "data": {
            "text/plain": [
              "<Figure size 432x288 with 1 Axes>"
            ],
            "image/png": "[encoded data removed]"
          },
          "metadata": {
            "needs_background": "light"
          }
        }
      ]
    },
    {
      "cell_type": "code",
      "source": [
        "model.save('/gdrive/MyDrive/Minor_Project/LeNet5_Adam')"
      ],
      "metadata": {
        "colab": {
          "base_uri": "https://localhost:8080/"
        },
        "id": "8JMKHR5H6Ccx",
        "outputId": "e80e2811-d500-4418-8f08-a9b1304dc654"
      },
      "execution_count": null,
      "outputs": [
        {
          "output_type": "stream",
          "name": "stderr",
          "text": [
            "WARNING:absl:Found untraced functions such as _jit_compiled_convolution_op, _jit_compiled_convolution_op, _jit_compiled_convolution_op while saving (showing 3 of 3). These functions will not be directly callable after loading.\n"
          ]
        }
      ]
    },
    {
      "cell_type": "markdown",
      "source": [
        "##Convolutional Neural Network with RMSprop Optimizer"
      ],
      "metadata": {
        "id": "7uyG5RUETsxc"
      }
    },
    {
      "cell_type": "code",
      "source": [
        "def create_model_CNN_RMSprop():\n",
        "\n",
        "  \n",
        "  # Defining the model\n",
        "  model = tf.keras.Sequential([\n",
        "      tf.keras.layers.Conv2D(64, (3,3), activation='relu', input_shape=(32, 32, 1)),\n",
        "      tf.keras.layers.MaxPooling2D(2, 2),\n",
        "      tf.keras.layers.Conv2D(128, (3, 3), activation='relu'),\n",
        "      tf.keras.layers.MaxPooling2D(2, 2),\n",
        "      tf.keras.layers.Flatten(),\n",
        "      #tf.keras.layers.Dropout(0.2),\n",
        "      tf.keras.layers.Dense(128, activation = 'relu'),\n",
        "      tf.keras.layers.Dense(46, activation = 'softmax')\n",
        "  ])\n",
        "  \n",
        "\n",
        "  model.compile(optimizer = tf.keras.optimizers.RMSprop(learning_rate = 0.0005),\n",
        "                loss = tf.keras.losses.SparseCategoricalCrossentropy(),\n",
        "                metrics=['accuracy'])\n",
        "\n",
        "  ### END CODE HERE       \n",
        "  \n",
        "  return model"
      ],
      "metadata": {
        "id": "HrQfmJGtzvZR"
      },
      "execution_count": null,
      "outputs": []
    },
    {
      "cell_type": "code",
      "source": [
        "model = create_model_CNN_RMSprop()\n",
        "model.summary()\n",
        "\n",
        "# Train your model\n",
        "history = model.fit(train_generator,\n",
        "                    epochs=25,\n",
        "                    validation_data = validation_generator)"
      ],
      "metadata": {
        "colab": {
          "base_uri": "https://localhost:8080/"
        },
        "outputId": "7869a7b8-ec21-401e-9662-9fcb675b0f25",
        "id": "X5KPT0Kmz53d"
      },
      "execution_count": null,
      "outputs": [
        {
          "output_type": "stream",
          "name": "stdout",
          "text": [
            "2301/2301 [==============================] - 43s 18ms/step - loss: 1.1095 - accuracy: 0.6893 - val_loss: 0.2671 - val_accuracy: 0.9185\n",
            "Epoch 2/25\n",
            "2301/2301 [==============================] - 34s 15ms/step - loss: 0.4451 - accuracy: 0.8687 - val_loss: 0.1426 - val_accuracy: 0.9568\n",
            "Epoch 3/25\n",
            "2301/2301 [==============================] - 34s 15ms/step - loss: 0.3089 - accuracy: 0.9095 - val_loss: 0.1019 - val_accuracy: 0.9692\n",
            "Epoch 4/25\n",
            "2301/2301 [==============================] - 37s 16ms/step - loss: 0.2405 - accuracy: 0.9281 - val_loss: 0.0724 - val_accuracy: 0.9778\n",
            "Epoch 5/25\n",
            "2301/2301 [==============================] - 33s 14ms/step - loss: 0.2094 - accuracy: 0.9382 - val_loss: 0.0669 - val_accuracy: 0.9778\n",
            "Epoch 6/25\n",
            "2301/2301 [==============================] - 36s 16ms/step - loss: 0.1870 - accuracy: 0.9439 - val_loss: 0.0567 - val_accuracy: 0.9823\n",
            "Epoch 7/25\n",
            "2301/2301 [==============================] - 33s 15ms/step - loss: 0.1793 - accuracy: 0.9463 - val_loss: 0.0605 - val_accuracy: 0.9819\n",
            "Epoch 8/25\n",
            "2301/2301 [==============================] - 34s 15ms/step - loss: 0.1723 - accuracy: 0.9489 - val_loss: 0.0738 - val_accuracy: 0.9790\n",
            "Epoch 9/25\n",
            "2301/2301 [==============================] - 33s 14ms/step - loss: 0.1716 - accuracy: 0.9493 - val_loss: 0.0536 - val_accuracy: 0.9850\n",
            "Epoch 10/25\n",
            "2301/2301 [==============================] - 34s 15ms/step - loss: 0.1655 - accuracy: 0.9506 - val_loss: 0.0621 - val_accuracy: 0.9826\n",
            "Epoch 11/25\n",
            "2301/2301 [==============================] - 34s 15ms/step - loss: 0.1657 - accuracy: 0.9516 - val_loss: 0.0756 - val_accuracy: 0.9799\n",
            "Epoch 12/25\n",
            "2301/2301 [==============================] - 34s 15ms/step - loss: 0.1678 - accuracy: 0.9513 - val_loss: 0.0961 - val_accuracy: 0.9788\n",
            "Epoch 13/25\n",
            "2301/2301 [==============================] - 34s 15ms/step - loss: 0.1682 - accuracy: 0.9513 - val_loss: 0.1243 - val_accuracy: 0.9728\n",
            "Epoch 14/25\n",
            "2301/2301 [==============================] - 34s 15ms/step - loss: 0.1651 - accuracy: 0.9522 - val_loss: 0.1762 - val_accuracy: 0.9633\n",
            "Epoch 15/25\n",
            "2301/2301 [==============================] - 37s 16ms/step - loss: 0.1708 - accuracy: 0.9515 - val_loss: 0.4504 - val_accuracy: 0.9331\n",
            "Epoch 16/25\n",
            "2301/2301 [==============================] - 34s 15ms/step - loss: 0.1701 - accuracy: 0.9510 - val_loss: 0.1520 - val_accuracy: 0.9717\n",
            "Epoch 17/25\n",
            "2301/2301 [==============================] - 34s 15ms/step - loss: 0.1714 - accuracy: 0.9502 - val_loss: 0.2557 - val_accuracy: 0.9572\n",
            "Epoch 18/25\n",
            "2301/2301 [==============================] - 34s 15ms/step - loss: 0.1785 - accuracy: 0.9488 - val_loss: 0.1546 - val_accuracy: 0.9703\n",
            "Epoch 19/25\n",
            "2301/2301 [==============================] - 34s 15ms/step - loss: 0.1712 - accuracy: 0.9516 - val_loss: 0.0764 - val_accuracy: 0.9823\n",
            "Epoch 20/25\n",
            "2301/2301 [==============================] - 34s 15ms/step - loss: 0.1751 - accuracy: 0.9509 - val_loss: 0.1008 - val_accuracy: 0.9782\n",
            "Epoch 21/25\n",
            "2301/2301 [==============================] - 34s 15ms/step - loss: 0.1790 - accuracy: 0.9507 - val_loss: 0.1906 - val_accuracy: 0.9667\n",
            "Epoch 22/25\n",
            "2301/2301 [==============================] - 34s 15ms/step - loss: 0.1816 - accuracy: 0.9489 - val_loss: 0.1475 - val_accuracy: 0.9707\n",
            "Epoch 23/25\n",
            "2301/2301 [==============================] - 37s 16ms/step - loss: 0.1882 - accuracy: 0.9476 - val_loss: 0.1982 - val_accuracy: 0.9692\n",
            "Epoch 24/25\n",
            "2301/2301 [==============================] - 34s 15ms/step - loss: 0.1883 - accuracy: 0.9470 - val_loss: 0.2056 - val_accuracy: 0.9686\n",
            "Epoch 25/25\n",
            "2301/2301 [==============================] - 38s 16ms/step - loss: 0.1852 - accuracy: 0.9489 - val_loss: 0.6306 - val_accuracy: 0.9365\n"
          ]
        }
      ]
    },
    {
      "cell_type": "code",
      "source": [
        "plot_graphs(history, 'loss')\n",
        "plot_graphs(history, 'accuracy')"
      ],
      "metadata": {
        "colab": {
          "base_uri": "https://localhost:8080/",
          "height": 541
        },
        "id": "7GO91aZO3nkx",
        "outputId": "d413d0ae-6d5c-41bf-8a3a-797b486d618c"
      },
      "execution_count": null,
      "outputs": [
        {
          "output_type": "display_data",
          "data": {
            "text/plain": [
              "<Figure size 432x288 with 1 Axes>"
            ],
            "image/png": "[encoded data removed]"
          },
          "metadata": {
            "needs_background": "light"
          }
        },
        {
          "output_type": "display_data",
          "data": {
            "text/plain": [
              "<Figure size 432x288 with 1 Axes>"
            ],
            "image/png": "[encoded data removed]"
          },
          "metadata": {
            "needs_background": "light"
          }
        }
      ]
    },
    {
      "cell_type": "code",
      "source": [
        "model.save('/gdrive/MyDrive/Minor_Project/CNN_RMSprop')"
      ],
      "metadata": {
        "colab": {
          "base_uri": "https://localhost:8080/"
        },
        "id": "UhzUY-ty9afh",
        "outputId": "d1d7c1de-b0a7-4678-b00b-3f990948400c"
      },
      "execution_count": null,
      "outputs": [
        {
          "output_type": "stream",
          "name": "stderr",
          "text": [
            "WARNING:absl:Found untraced functions such as _jit_compiled_convolution_op, _jit_compiled_convolution_op while saving (showing 2 of 2). These functions will not be directly callable after loading.\n"
          ]
        }
      ]
    },
    {
      "cell_type": "markdown",
      "source": [
        "##Lenet-5 Model with RMSprop Optimizer"
      ],
      "metadata": {
        "id": "RH6ezc2UT3GT"
      }
    },
    {
      "cell_type": "code",
      "source": [
        "def lenet_model_RMSprop():\n",
        "  lenet_5_model = tf.keras.models.Sequential([\n",
        "      tf.keras.layers.Conv2D(6, kernel_size=5, strides=1,  activation='tanh', input_shape=(32,32,1), padding='same'), #C1\n",
        "      tf.keras.layers.AveragePooling2D(), #S2\n",
        "      tf.keras.layers.Conv2D(16, kernel_size=5, strides=1, activation='tanh', padding='valid'), #C3\n",
        "      tf.keras.layers.AveragePooling2D(), #S4\n",
        "      tf.keras.layers.Conv2D(120, kernel_size=5, strides=1, activation='tanh', padding='valid'), #C5\n",
        "      tf.keras.layers.Flatten(), #Flatten    \n",
        "      tf.keras.layers.Dense(84, activation='tanh'), #F6\n",
        "      tf.keras.layers.Dense(46, activation='softmax') #Output layer\n",
        "  ])\n",
        "\n",
        "  lenet_5_model.compile(optimizer = tf.keras.optimizers.RMSprop(learning_rate = 0.0005),\n",
        "                loss = tf.keras.losses.SparseCategoricalCrossentropy(),\n",
        "                metrics=['accuracy'])\n",
        "\n",
        "  return lenet_5_model"
      ],
      "metadata": {
        "id": "sWZHMJrZ4Fsd"
      },
      "execution_count": null,
      "outputs": []
    },
    {
      "cell_type": "code",
      "source": [
        "model = lenet_model_RMSprop()\n",
        "model.summary()\n",
        "\n",
        "# Train your model\n",
        "history = model.fit(train_generator,\n",
        "                    epochs=25,\n",
        "                    validation_data = validation_generator)"
      ],
      "metadata": {
        "colab": {
          "base_uri": "https://localhost:8080/"
        },
        "id": "B4UOUUH44WfQ",
        "outputId": "c49d42d8-d045-44ca-8636-fef74d72ef32"
      },
      "execution_count": null,
      "outputs": [
        {
          "output_type": "stream",
          "name": "stdout",
          "text": [
            "Model: \"sequential_6\"\n",
            "_________________________________________________________________\n",
            " Layer (type)                Output Shape              Param #   \n",
            "=================================================================\n",
            " conv2d_14 (Conv2D)          (None, 32, 32, 6)         156       \n",
            "                                                                 \n",
            " average_pooling2d_4 (Averag  (None, 16, 16, 6)        0         \n",
            " ePooling2D)                                                     \n",
            "                                                                 \n",
            " conv2d_15 (Conv2D)          (None, 12, 12, 16)        2416      \n",
            "                                                                 \n",
            " average_pooling2d_5 (Averag  (None, 6, 6, 16)         0         \n",
            " ePooling2D)                                                     \n",
            "                                                                 \n",
            " conv2d_16 (Conv2D)          (None, 2, 2, 120)         48120     \n",
            "                                                                 \n",
            " flatten_6 (Flatten)         (None, 480)               0         \n",
            "                                                                 \n",
            " dense_12 (Dense)            (None, 84)                40404     \n",
            "                                                                 \n",
            " dense_13 (Dense)            (None, 46)                3910      \n",
            "                                                                 \n",
            "=================================================================\n",
            "Total params: 95,006\n",
            "Trainable params: 95,006\n",
            "Non-trainable params: 0\n",
            "_________________________________________________________________\n",
            "Epoch 1/25\n",
            "2301/2301 [==============================] - 42s 18ms/step - loss: 1.9586 - accuracy: 0.4857 - val_loss: 0.7869 - val_accuracy: 0.7988\n",
            "Epoch 2/25\n",
            "2301/2301 [==============================] - 34s 15ms/step - loss: 0.8892 - accuracy: 0.7514 - val_loss: 0.4118 - val_accuracy: 0.8897\n",
            "Epoch 3/25\n",
            "2301/2301 [==============================] - 40s 17ms/step - loss: 0.5973 - accuracy: 0.8278 - val_loss: 0.2999 - val_accuracy: 0.9174\n",
            "Epoch 4/25\n",
            "2301/2301 [==============================] - 34s 15ms/step - loss: 0.4696 - accuracy: 0.8616 - val_loss: 0.2285 - val_accuracy: 0.9340\n",
            "Epoch 5/25\n",
            "2301/2301 [==============================] - 33s 14ms/step - loss: 0.3922 - accuracy: 0.8831 - val_loss: 0.1828 - val_accuracy: 0.9483\n",
            "Epoch 6/25\n",
            "2301/2301 [==============================] - 34s 15ms/step - loss: 0.3471 - accuracy: 0.8960 - val_loss: 0.1859 - val_accuracy: 0.9442\n",
            "Epoch 7/25\n",
            "2301/2301 [==============================] - 33s 15ms/step - loss: 0.3129 - accuracy: 0.9056 - val_loss: 0.1482 - val_accuracy: 0.9554\n",
            "Epoch 8/25\n",
            "2301/2301 [==============================] - 33s 15ms/step - loss: 0.2950 - accuracy: 0.9119 - val_loss: 0.1371 - val_accuracy: 0.9595\n",
            "Epoch 9/25\n",
            "2301/2301 [==============================] - 42s 18ms/step - loss: 0.2741 - accuracy: 0.9170 - val_loss: 0.1328 - val_accuracy: 0.9607\n",
            "Epoch 10/25\n",
            "2301/2301 [==============================] - 34s 15ms/step - loss: 0.2591 - accuracy: 0.9213 - val_loss: 0.1138 - val_accuracy: 0.9658\n",
            "Epoch 11/25\n",
            "2301/2301 [==============================] - 33s 14ms/step - loss: 0.2429 - accuracy: 0.9260 - val_loss: 0.1165 - val_accuracy: 0.9643\n",
            "Epoch 12/25\n",
            "2301/2301 [==============================] - 39s 17ms/step - loss: 0.2337 - accuracy: 0.9287 - val_loss: 0.1093 - val_accuracy: 0.9649\n",
            "Epoch 13/25\n",
            "2301/2301 [==============================] - 37s 16ms/step - loss: 0.2287 - accuracy: 0.9308 - val_loss: 0.1004 - val_accuracy: 0.9707\n",
            "Epoch 14/25\n",
            "2301/2301 [==============================] - 34s 15ms/step - loss: 0.2138 - accuracy: 0.9342 - val_loss: 0.1092 - val_accuracy: 0.9661\n",
            "Epoch 15/25\n",
            "2301/2301 [==============================] - 34s 15ms/step - loss: 0.2108 - accuracy: 0.9364 - val_loss: 0.0914 - val_accuracy: 0.9723\n",
            "Epoch 16/25\n",
            "2301/2301 [==============================] - 34s 15ms/step - loss: 0.2038 - accuracy: 0.9385 - val_loss: 0.1028 - val_accuracy: 0.9698\n",
            "Epoch 17/25\n",
            "2301/2301 [==============================] - 34s 15ms/step - loss: 0.2015 - accuracy: 0.9391 - val_loss: 0.0958 - val_accuracy: 0.9705\n",
            "Epoch 18/25\n",
            "2301/2301 [==============================] - 34s 15ms/step - loss: 0.1933 - accuracy: 0.9403 - val_loss: 0.0948 - val_accuracy: 0.9705\n",
            "Epoch 19/25\n",
            "2301/2301 [==============================] - 34s 15ms/step - loss: 0.1892 - accuracy: 0.9413 - val_loss: 0.1046 - val_accuracy: 0.9685\n",
            "Epoch 20/25\n",
            "2301/2301 [==============================] - 34s 15ms/step - loss: 0.1820 - accuracy: 0.9441 - val_loss: 0.0900 - val_accuracy: 0.9713\n",
            "Epoch 21/25\n",
            "2301/2301 [==============================] - 34s 15ms/step - loss: 0.1813 - accuracy: 0.9446 - val_loss: 0.0815 - val_accuracy: 0.9752\n",
            "Epoch 22/25\n",
            "2301/2301 [==============================] - 37s 16ms/step - loss: 0.1753 - accuracy: 0.9472 - val_loss: 0.0881 - val_accuracy: 0.9731\n",
            "Epoch 23/25\n",
            "2301/2301 [==============================] - 37s 16ms/step - loss: 0.1728 - accuracy: 0.9471 - val_loss: 0.0813 - val_accuracy: 0.9749\n",
            "Epoch 24/25\n",
            "2301/2301 [==============================] - 34s 15ms/step - loss: 0.1674 - accuracy: 0.9489 - val_loss: 0.0815 - val_accuracy: 0.9742\n",
            "Epoch 25/25\n",
            "2301/2301 [==============================] - 34s 15ms/step - loss: 0.1666 - accuracy: 0.9495 - val_loss: 0.0835 - val_accuracy: 0.9740\n"
          ]
        }
      ]
    },
    {
      "cell_type": "code",
      "source": [
        "plot_graphs(history, 'loss')\n",
        "plot_graphs(history, 'accuracy')"
      ],
      "metadata": {
        "colab": {
          "base_uri": "https://localhost:8080/",
          "height": 542
        },
        "id": "pPs2anuKBGUj",
        "outputId": "540e6ea8-773c-46a6-c653-0fd384c00ad6"
      },
      "execution_count": null,
      "outputs": [
        {
          "output_type": "display_data",
          "data": {
            "text/plain": [
              "<Figure size 432x288 with 1 Axes>"
            ],
            "image/png": "[encoded data removed]"
          },
          "metadata": {
            "needs_background": "light"
          }
        },
        {
          "output_type": "display_data",
          "data": {
            "text/plain": [
              "<Figure size 432x288 with 1 Axes>"
            ],
            "image/png": "[encoded data removed]"
          },
          "metadata": {
            "needs_background": "light"
          }
        }
      ]
    },
    {
      "cell_type": "code",
      "source": [
        "model.save('/gdrive/MyDrive/Minor_Project/LeNet5_RMSprop')"
      ],
      "metadata": {
        "id": "thicouwBo6ZS"
      },
      "execution_count": null,
      "outputs": []
    },
    {
      "cell_type": "markdown",
      "source": [
        "##Model Prediction"
      ],
      "metadata": {
        "id": "mF6wLGVTo2ue"
      }
    },
    {
      "cell_type": "code",
      "source": [
        "import csv\n",
        "import string\n",
        "import numpy as np\n",
        "from PIL import Image as im\n",
        "import tensorflow as tf\n",
        "import random\n",
        "import pandas as pd\n",
        "import matplotlib.pyplot as plt\n",
        "from tensorflow.keras.preprocessing.image import ImageDataGenerator, array_to_img\n",
        "from tensorflow.keras.utils import to_categorical\n",
        "from google.colab import files\n",
        "from io import BytesIO\n",
        "\n",
        "uploaded = files.upload()"
      ],
      "metadata": {
        "colab": {
          "base_uri": "https://localhost:8080/",
          "height": 74
        },
        "id": "H_Vs16cHOSh5",
        "outputId": "d54674a6-dc9f-42d5-c9ce-c84e7de1aec9"
      },
      "execution_count": null,
      "outputs": [
        {
          "output_type": "display_data",
          "data": {
            "text/plain": [
              "<IPython.core.display.HTML object>"
            ],
            "text/html": [
              "\n",
              "     <input type=\"file\" id=\"files-f0dcaee1-c16c-4ddb-84d7-376743331afb\" name=\"files[]\" multiple disabled\n",
              "        style=\"border:none\" />\n",
              "     <output id=\"result-f0dcaee1-c16c-4ddb-84d7-376743331afb\">\n",
              "      Upload widget is only available when the cell has been executed in the\n",
              "      current browser session. Please rerun this cell to enable.\n",
              "      </output>\n",
              "      <script>// Copyright 2017 Google LLC\n",
              "//\n",
              "// Licensed under the Apache License, Version 2.0 (the \"License\");\n",
              "// you may not use this file except in compliance with the License.\n",
              "// You may obtain a copy of the License at\n",
              "//\n",
              "//      http://www.apache.org/licenses/LICENSE-2.0\n",
              "//\n",
              "// Unless required by applicable law or agreed to in writing, software\n",
              "// distributed under the License is distributed on an \"AS IS\" BASIS,\n",
              "// WITHOUT WARRANTIES OR CONDITIONS OF ANY KIND, either express or implied.\n",
              "// See the License for the specific language governing permissions and\n",
              "// limitations under the License.\n",
              "\n",
              "/**\n",
              " * @fileoverview Helpers for google.colab Python module.\n",
              " */\n",
              "(function(scope) {\n",
              "function span(text, styleAttributes = {}) {\n",
              "  const element = document.createElement('span');\n",
              "  element.textContent = text;\n",
              "  for (const key of Object.keys(styleAttributes)) {\n",
              "    element.style[key] = styleAttributes[key];\n",
              "  }\n",
              "  return element;\n",
              "}\n",
              "\n",
              "// Max number of bytes which will be uploaded at a time.\n",
              "const MAX_PAYLOAD_SIZE = 100 * 1024;\n",
              "\n",
              "function _uploadFiles(inputId, outputId) {\n",
              "  const steps = uploadFilesStep(inputId, outputId);\n",
              "  const outputElement = document.getElementById(outputId);\n",
              "  // Cache steps on the outputElement to make it available for the next call\n",
              "  // to uploadFilesContinue from Python.\n",
              "  outputElement.steps = steps;\n",
              "\n",
              "  return _uploadFilesContinue(outputId);\n",
              "}\n",
              "\n",
              "// This is roughly an async generator (not supported in the browser yet),\n",
              "// where there are multiple asynchronous steps and the Python side is going\n",
              "// to poll for completion of each step.\n",
              "// This uses a Promise to block the python side on completion of each step,\n",
              "// then passes the result of the previous step as the input to the next step.\n",
              "function _uploadFilesContinue(outputId) {\n",
              "  const outputElement = document.getElementById(outputId);\n",
              "  const steps = outputElement.steps;\n",
              "\n",
              "  const next = steps.next(outputElement.lastPromiseValue);\n",
              "  return Promise.resolve(next.value.promise).then((value) => {\n",
              "    // Cache the last promise value to make it available to the next\n",
              "    // step of the generator.\n",
              "    outputElement.lastPromiseValue = value;\n",
              "    return next.value.response;\n",
              "  });\n",
              "}\n",
              "\n",
              "/**\n",
              " * Generator function which is called between each async step of the upload\n",
              " * process.\n",
              " * @param {string} inputId Element ID of the input file picker element.\n",
              " * @param {string} outputId Element ID of the output display.\n",
              " * @return {!Iterable<!Object>} Iterable of next steps.\n",
              " */\n",
              "function* uploadFilesStep(inputId, outputId) {\n",
              "  const inputElement = document.getElementById(inputId);\n",
              "  inputElement.disabled = false;\n",
              "\n",
              "  const outputElement = document.getElementById(outputId);\n",
              "  outputElement.innerHTML = '';\n",
              "\n",
              "  const pickedPromise = new Promise((resolve) => {\n",
              "    inputElement.addEventListener('change', (e) => {\n",
              "      resolve(e.target.files);\n",
              "    });\n",
              "  });\n",
              "\n",
              "  const cancel = document.createElement('button');\n",
              "  inputElement.parentElement.appendChild(cancel);\n",
              "  cancel.textContent = 'Cancel upload';\n",
              "  const cancelPromise = new Promise((resolve) => {\n",
              "    cancel.onclick = () => {\n",
              "      resolve(null);\n",
              "    };\n",
              "  });\n",
              "\n",
              "  // Wait for the user to pick the files.\n",
              "  const files = yield {\n",
              "    promise: Promise.race([pickedPromise, cancelPromise]),\n",
              "    response: {\n",
              "      action: 'starting',\n",
              "    }\n",
              "  };\n",
              "\n",
              "  cancel.remove();\n",
              "\n",
              "  // Disable the input element since further picks are not allowed.\n",
              "  inputElement.disabled = true;\n",
              "\n",
              "  if (!files) {\n",
              "    return {\n",
              "      response: {\n",
              "        action: 'complete',\n",
              "      }\n",
              "    };\n",
              "  }\n",
              "\n",
              "  for (const file of files) {\n",
              "    const li = document.createElement('li');\n",
              "    li.append(span(file.name, {fontWeight: 'bold'}));\n",
              "    li.append(span(\n",
              "        `(${file.type || 'n/a'}) - ${file.size} bytes, ` +\n",
              "        `last modified: ${\n",
              "            file.lastModifiedDate ? file.lastModifiedDate.toLocaleDateString() :\n",
              "                                    'n/a'} - `));\n",
              "    const percent = span('0% done');\n",
              "    li.appendChild(percent);\n",
              "\n",
              "    outputElement.appendChild(li);\n",
              "\n",
              "    const fileDataPromise = new Promise((resolve) => {\n",
              "      const reader = new FileReader();\n",
              "      reader.onload = (e) => {\n",
              "        resolve(e.target.result);\n",
              "      };\n",
              "      reader.readAsArrayBuffer(file);\n",
              "    });\n",
              "    // Wait for the data to be ready.\n",
              "    let fileData = yield {\n",
              "      promise: fileDataPromise,\n",
              "      response: {\n",
              "        action: 'continue',\n",
              "      }\n",
              "    };\n",
              "\n",
              "    // Use a chunked sending to avoid message size limits. See b/62115660.\n",
              "    let position = 0;\n",
              "    do {\n",
              "      const length = Math.min(fileData.byteLength - position, MAX_PAYLOAD_SIZE);\n",
              "      const chunk = new Uint8Array(fileData, position, length);\n",
              "      position += length;\n",
              "\n",
              "      const base64 = btoa(String.fromCharCode.apply(null, chunk));\n",
              "      yield {\n",
              "        response: {\n",
              "          action: 'append',\n",
              "          file: file.name,\n",
              "          data: base64,\n",
              "        },\n",
              "      };\n",
              "\n",
              "      let percentDone = fileData.byteLength === 0 ?\n",
              "          100 :\n",
              "          Math.round((position / fileData.byteLength) * 100);\n",
              "      percent.textContent = `${percentDone}% done`;\n",
              "\n",
              "    } while (position < fileData.byteLength);\n",
              "  }\n",
              "\n",
              "  // All done.\n",
              "  yield {\n",
              "    response: {\n",
              "      action: 'complete',\n",
              "    }\n",
              "  };\n",
              "}\n",
              "\n",
              "scope.google = scope.google || {};\n",
              "scope.google.colab = scope.google.colab || {};\n",
              "scope.google.colab._files = {\n",
              "  _uploadFiles,\n",
              "  _uploadFilesContinue,\n",
              "};\n",
              "})(self);\n",
              "</script> "
            ]
          },
          "metadata": {}
        },
        {
          "output_type": "stream",
          "name": "stdout",
          "text": [
            "Saving ba.png to ba.png\n"
          ]
        }
      ]
    },
    {
      "cell_type": "code",
      "source": [
        "lt=list(uploaded.keys())\n",
        "img = im.open(BytesIO(uploaded[lt[0]]))"
      ],
      "metadata": {
        "id": "pb5IaGnSZB5f"
      },
      "execution_count": null,
      "outputs": []
    },
    {
      "cell_type": "code",
      "source": [
        "#import matplotlib.pyplot as plt\n",
        "\n",
        "plt.imshow(img)\n",
        "plt.show()"
      ],
      "metadata": {
        "colab": {
          "base_uri": "https://localhost:8080/",
          "height": 268
        },
        "id": "p3UnMlkrZd4K",
        "outputId": "629da916-40b6-489c-dddd-3964ed0a5e06"
      },
      "execution_count": null,
      "outputs": [
        {
          "output_type": "display_data",
          "data": {
            "text/plain": [
              "<Figure size 432x288 with 1 Axes>"
            ],
            "image/png": "[encoded data removed]"
          },
          "metadata": {
            "needs_background": "light"
          }
        }
      ]
    },
    {
      "cell_type": "code",
      "source": [
        "img=img.resize((32,32))\n",
        "img = img.convert(\"L\")\n",
        "plt.imshow(img)\n",
        "plt.show()"
      ],
      "metadata": {
        "colab": {
          "base_uri": "https://localhost:8080/",
          "height": 266
        },
        "id": "1K_wGE_FZjNv",
        "outputId": "c61f99a9-5c10-459e-8c76-494f4d143de0"
      },
      "execution_count": null,
      "outputs": [
        {
          "output_type": "display_data",
          "data": {
            "text/plain": [
              "<Figure size 432x288 with 1 Axes>"
            ],
            "image/png": "[encoded data removed]"
          },
          "metadata": {
            "needs_background": "light"
          }
        }
      ]
    },
    {
      "cell_type": "code",
      "source": [
        "new_model = tf.keras.models.load_model('/content/drive/MyDrive/Minor_Project/CNN_Adam')"
      ],
      "metadata": {
        "id": "CFWd8hNWbld_"
      },
      "execution_count": null,
      "outputs": []
    },
    {
      "cell_type": "code",
      "source": [
        "label_to_char = {10: 'character_01_ka', 11: 'character_02_kha', 12: 'character_03_ga', 13: 'character_04_gha', 14: 'character_05_kna', 15: 'character_06_cha', 16: 'character_07_chha', 17: 'character_08_ja', 18: 'character_09_jha', 19: 'character_10_yna', 20: 'character_11_taamatar', 21: 'character_12_thaa', 22: 'character_13_daa', 23: 'character_14_dhaa', 24: 'character_15_adna', 25: 'character_16_tabala', 26: 'character_17_tha', 27: 'character_18_da', 28: 'character_19_dha', 29: 'character_20_na', 30: 'character_21_pa', 31: 'character_22_pha', 32: 'character_23_ba', 33: 'character_24_bha', 34: 'character_25_ma', 35: 'character_26_yaw', 36: 'character_27_ra', 37: 'character_28_la', 38: 'character_29_waw', 39: 'character_30_motosaw', 40: 'character_31_petchiryakha', 41: 'character_32_patalosaw', 42: 'character_33_ha', 43: 'character_34_chhya', 44: 'character_35_tra', 45: 'character_36_gya', 0: 'digit_0', 1: 'digit_1', 2: 'digit_2', 3: 'digit_3', 4: 'digit_4', 5: 'digit_5', 6: 'digit_6', 7: 'digit_7', 8: 'digit_8', 9: 'digit_9'}"
      ],
      "metadata": {
        "id": "HZn0dlMNd3l-"
      },
      "execution_count": null,
      "outputs": []
    },
    {
      "cell_type": "code",
      "source": [
        "npim = np.array(img)\n",
        "#print(npim)\n",
        "npim = np.expand_dims(npim, axis = 0)\n",
        "npim = np.expand_dims(npim, axis = -1)\n",
        "print(npim.shape)\n",
        "ten_im =tf.convert_to_tensor(npim)"
      ],
      "metadata": {
        "colab": {
          "base_uri": "https://localhost:8080/"
        },
        "id": "HbMLrrSdeI-H",
        "outputId": "4b257926-ff50-4768-8fb2-2ade09072f53"
      },
      "execution_count": null,
      "outputs": [
        {
          "output_type": "stream",
          "name": "stdout",
          "text": [
            "(1, 32, 32, 1)\n"
          ]
        }
      ]
    },
    {
      "cell_type": "code",
      "source": [
        "predict = new_model.predict(ten_im)\n",
        "label_to_char[np.argmax(predict)]"
      ],
      "metadata": {
        "colab": {
          "base_uri": "https://localhost:8080/",
          "height": 53
        },
        "id": "Kx9wwcrlirHl",
        "outputId": "f3024dc3-5c50-476c-a8b0-cbe9c1f8fa5b"
      },
      "execution_count": null,
      "outputs": [
        {
          "output_type": "stream",
          "name": "stdout",
          "text": [
            "1/1 [==============================] - 0s 67ms/step\n"
          ]
        },
        {
          "output_type": "execute_result",
          "data": {
            "text/plain": [
              "'character_23_ba'"
            ],
            "application/vnd.google.colaboratory.intrinsic+json": {
              "type": "string"
            }
          },
          "metadata": {},
          "execution_count": 16
        }
      ]
    }
  ]
}